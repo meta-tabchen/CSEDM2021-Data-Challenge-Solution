{
 "cells": [
  {
   "cell_type": "code",
   "execution_count": 1,
   "id": "ae561f58",
   "metadata": {},
   "outputs": [
    {
     "name": "stderr",
     "output_type": "stream",
     "text": [
      "/root/anaconda3/envs/4s_dev/lib/python3.7/site-packages/tensorflow/python/framework/dtypes.py:526: FutureWarning: Passing (type, 1) or '1type' as a synonym of type is deprecated; in a future version of numpy, it will be understood as (type, (1,)) / '(1,)type'.\n",
      "  _np_qint8 = np.dtype([(\"qint8\", np.int8, 1)])\n",
      "/root/anaconda3/envs/4s_dev/lib/python3.7/site-packages/tensorflow/python/framework/dtypes.py:527: FutureWarning: Passing (type, 1) or '1type' as a synonym of type is deprecated; in a future version of numpy, it will be understood as (type, (1,)) / '(1,)type'.\n",
      "  _np_quint8 = np.dtype([(\"quint8\", np.uint8, 1)])\n",
      "/root/anaconda3/envs/4s_dev/lib/python3.7/site-packages/tensorflow/python/framework/dtypes.py:528: FutureWarning: Passing (type, 1) or '1type' as a synonym of type is deprecated; in a future version of numpy, it will be understood as (type, (1,)) / '(1,)type'.\n",
      "  _np_qint16 = np.dtype([(\"qint16\", np.int16, 1)])\n",
      "/root/anaconda3/envs/4s_dev/lib/python3.7/site-packages/tensorflow/python/framework/dtypes.py:529: FutureWarning: Passing (type, 1) or '1type' as a synonym of type is deprecated; in a future version of numpy, it will be understood as (type, (1,)) / '(1,)type'.\n",
      "  _np_quint16 = np.dtype([(\"quint16\", np.uint16, 1)])\n",
      "/root/anaconda3/envs/4s_dev/lib/python3.7/site-packages/tensorflow/python/framework/dtypes.py:530: FutureWarning: Passing (type, 1) or '1type' as a synonym of type is deprecated; in a future version of numpy, it will be understood as (type, (1,)) / '(1,)type'.\n",
      "  _np_qint32 = np.dtype([(\"qint32\", np.int32, 1)])\n",
      "/root/anaconda3/envs/4s_dev/lib/python3.7/site-packages/tensorflow/python/framework/dtypes.py:535: FutureWarning: Passing (type, 1) or '1type' as a synonym of type is deprecated; in a future version of numpy, it will be understood as (type, (1,)) / '(1,)type'.\n",
      "  np_resource = np.dtype([(\"resource\", np.ubyte, 1)])\n"
     ]
    }
   ],
   "source": [
    "import os\n",
    "import json\n",
    "import pickle\n",
    "import torch\n",
    "import numpy as np\n",
    "import pandas as pd\n",
    "from utils.utils import set_seed\n",
    "from utils.data_loader import *\n",
    "from torch.optim import Adam\n",
    "from deepctr_torch.inputs import SparseFeat, DenseFeat,VarLenSparseFeat, get_feature_names\n",
    "from deepctr_torch.models import *\n",
    "from utils.task1_helps import *"
   ]
  },
  {
   "cell_type": "code",
   "execution_count": 2,
   "id": "645173d6",
   "metadata": {},
   "outputs": [],
   "source": [
    "# test dataset dir\n",
    "test_data_dir = \"../csedm_2021/data/csedm_2021/datashop/F19_Release_Test_06-28-21/Test\"\n",
    "# load data\n",
    "early_test, late_test, main_table_test, code_state_test, subject_test, metadata_test = load_raw_data(\n",
    "    test_data_dir)"
   ]
  },
  {
   "cell_type": "code",
   "execution_count": null,
   "id": "68f167f3",
   "metadata": {},
   "outputs": [],
   "source": [
    "model_dir = 'data/models/task1'"
   ]
  },
  {
   "cell_type": "code",
   "execution_count": 3,
   "id": "51ba2785",
   "metadata": {},
   "outputs": [],
   "source": [
    "#encode test features\n",
    "lbe_dict = pickle.load(open(os.path.join(model_dir,'lbe_dict.pkl'),'rb'))\n",
    "test_data = late_test.copy()\n",
    "for feat in lbe_dict:\n",
    "    lbe = lbe_dict[feat]\n",
    "    test_data[feat+\"_encoded\"] = lbe_dict[feat].transform(test_data[feat].apply(str))"
   ]
  },
  {
   "cell_type": "code",
   "execution_count": 4,
   "id": "2140e532",
   "metadata": {},
   "outputs": [],
   "source": [
    "device = torch.device('cuda' if torch.cuda.is_available() else 'cpu')"
   ]
  },
  {
   "cell_type": "code",
   "execution_count": 5,
   "id": "9f1879cc",
   "metadata": {},
   "outputs": [],
   "source": [
    "def infer_one_model(test_data, args, lbe_dict):\n",
    "    test_data = test_data.copy()\n",
    "    config = {\"dense_features\": [],\n",
    "              \"sparse_features\": ['SubjectID', 'ProblemID', 'AssignmentID'],\n",
    "              'sparse_emb_dim': args.sparse_emb_dim}\n",
    "    # get features\n",
    "    dnn_feature_columns, linear_feature_columns, test_model_input = get_input_data(\n",
    "        test_data, config, lbe_dict)\n",
    "\n",
    "    # load best model\n",
    "    model = eval(args.model_name)(linear_feature_columns, dnn_feature_columns,\n",
    "                                  task='binary', device=device, seed=args.seed)\n",
    "    model.compile(Adam(model.parameters(), args.lr),\n",
    "                  'binary_crossentropy', metrics=['binary_crossentropy'])\n",
    "    model.load_state_dict(torch.load(args.model_path))\n",
    "\n",
    "    # predict\n",
    "    test_data['Label'] = model.predict(\n",
    "        test_model_input, batch_size=args.batch_size)\n",
    "    keep_cols = ['SubjectID', 'AssignmentID', 'ProblemID', 'Label']\n",
    "    return test_data[keep_cols]"
   ]
  },
  {
   "cell_type": "code",
   "execution_count": 6,
   "id": "a9d600d7",
   "metadata": {},
   "outputs": [],
   "source": [
    "model_ids = ['9qqg9n7b','k22nsoiv','nq8jqdld']#we use more than 3 models"
   ]
  },
  {
   "cell_type": "code",
   "execution_count": 7,
   "id": "fe7a81c0",
   "metadata": {},
   "outputs": [],
   "source": [
    "pred_list = []\n",
    "for model_id in model_ids:\n",
    "    args = load_model_config(model_id,model_dir)\n",
    "    df_submit = infer_one_model(test_data,args,lbe_dict)\n",
    "    pred_list.append(df_submit['Label'].values)"
   ]
  },
  {
   "cell_type": "code",
   "execution_count": 8,
   "id": "926d80c4",
   "metadata": {},
   "outputs": [],
   "source": [
    "y_pred = np.array(pred_list).mean(axis=0)"
   ]
  },
  {
   "cell_type": "code",
   "execution_count": 9,
   "id": "24d9d3f8",
   "metadata": {},
   "outputs": [],
   "source": [
    "df_submit['Label'] = y_pred"
   ]
  },
  {
   "cell_type": "code",
   "execution_count": 10,
   "id": "2ed0b2e8",
   "metadata": {},
   "outputs": [],
   "source": [
    "os.makedirs(\"data/submit/track1/\",exist_ok=True)"
   ]
  },
  {
   "cell_type": "code",
   "execution_count": 11,
   "id": "c20ddebd",
   "metadata": {},
   "outputs": [],
   "source": [
    "df_submit.to_csv('data/submit/track1/predictions.csv',index=False)"
   ]
  },
  {
   "cell_type": "code",
   "execution_count": 12,
   "id": "4eec8136",
   "metadata": {},
   "outputs": [
    {
     "data": {
      "text/html": [
       "<div>\n",
       "<style scoped>\n",
       "    .dataframe tbody tr th:only-of-type {\n",
       "        vertical-align: middle;\n",
       "    }\n",
       "\n",
       "    .dataframe tbody tr th {\n",
       "        vertical-align: top;\n",
       "    }\n",
       "\n",
       "    .dataframe thead th {\n",
       "        text-align: right;\n",
       "    }\n",
       "</style>\n",
       "<table border=\"1\" class=\"dataframe\">\n",
       "  <thead>\n",
       "    <tr style=\"text-align: right;\">\n",
       "      <th></th>\n",
       "      <th>SubjectID</th>\n",
       "      <th>AssignmentID</th>\n",
       "      <th>ProblemID</th>\n",
       "      <th>Label</th>\n",
       "    </tr>\n",
       "  </thead>\n",
       "  <tbody>\n",
       "    <tr>\n",
       "      <th>0</th>\n",
       "      <td>00358c94503a8d9e6869efc6e5cdb0e1c8e9eb39b1fd46...</td>\n",
       "      <td>494</td>\n",
       "      <td>41</td>\n",
       "      <td>0.855945</td>\n",
       "    </tr>\n",
       "    <tr>\n",
       "      <th>1</th>\n",
       "      <td>00358c94503a8d9e6869efc6e5cdb0e1c8e9eb39b1fd46...</td>\n",
       "      <td>494</td>\n",
       "      <td>43</td>\n",
       "      <td>0.883483</td>\n",
       "    </tr>\n",
       "    <tr>\n",
       "      <th>2</th>\n",
       "      <td>00358c94503a8d9e6869efc6e5cdb0e1c8e9eb39b1fd46...</td>\n",
       "      <td>494</td>\n",
       "      <td>44</td>\n",
       "      <td>0.898083</td>\n",
       "    </tr>\n",
       "    <tr>\n",
       "      <th>3</th>\n",
       "      <td>00358c94503a8d9e6869efc6e5cdb0e1c8e9eb39b1fd46...</td>\n",
       "      <td>494</td>\n",
       "      <td>46</td>\n",
       "      <td>0.875365</td>\n",
       "    </tr>\n",
       "    <tr>\n",
       "      <th>4</th>\n",
       "      <td>00358c94503a8d9e6869efc6e5cdb0e1c8e9eb39b1fd46...</td>\n",
       "      <td>494</td>\n",
       "      <td>49</td>\n",
       "      <td>0.875623</td>\n",
       "    </tr>\n",
       "    <tr>\n",
       "      <th>...</th>\n",
       "      <td>...</td>\n",
       "      <td>...</td>\n",
       "      <td>...</td>\n",
       "      <td>...</td>\n",
       "    </tr>\n",
       "    <tr>\n",
       "      <th>2360</th>\n",
       "      <td>fa7805c1d46ef49851de43750a665a993eef750b560159...</td>\n",
       "      <td>502</td>\n",
       "      <td>64</td>\n",
       "      <td>0.221462</td>\n",
       "    </tr>\n",
       "    <tr>\n",
       "      <th>2361</th>\n",
       "      <td>fa7805c1d46ef49851de43750a665a993eef750b560159...</td>\n",
       "      <td>502</td>\n",
       "      <td>70</td>\n",
       "      <td>0.125746</td>\n",
       "    </tr>\n",
       "    <tr>\n",
       "      <th>2362</th>\n",
       "      <td>fa7805c1d46ef49851de43750a665a993eef750b560159...</td>\n",
       "      <td>502</td>\n",
       "      <td>71</td>\n",
       "      <td>0.205003</td>\n",
       "    </tr>\n",
       "    <tr>\n",
       "      <th>2363</th>\n",
       "      <td>fa7805c1d46ef49851de43750a665a993eef750b560159...</td>\n",
       "      <td>502</td>\n",
       "      <td>112</td>\n",
       "      <td>0.203444</td>\n",
       "    </tr>\n",
       "    <tr>\n",
       "      <th>2364</th>\n",
       "      <td>fa7805c1d46ef49851de43750a665a993eef750b560159...</td>\n",
       "      <td>502</td>\n",
       "      <td>118</td>\n",
       "      <td>0.204787</td>\n",
       "    </tr>\n",
       "  </tbody>\n",
       "</table>\n",
       "<p>2365 rows × 4 columns</p>\n",
       "</div>"
      ],
      "text/plain": [
       "                                              SubjectID  AssignmentID  \\\n",
       "0     00358c94503a8d9e6869efc6e5cdb0e1c8e9eb39b1fd46...           494   \n",
       "1     00358c94503a8d9e6869efc6e5cdb0e1c8e9eb39b1fd46...           494   \n",
       "2     00358c94503a8d9e6869efc6e5cdb0e1c8e9eb39b1fd46...           494   \n",
       "3     00358c94503a8d9e6869efc6e5cdb0e1c8e9eb39b1fd46...           494   \n",
       "4     00358c94503a8d9e6869efc6e5cdb0e1c8e9eb39b1fd46...           494   \n",
       "...                                                 ...           ...   \n",
       "2360  fa7805c1d46ef49851de43750a665a993eef750b560159...           502   \n",
       "2361  fa7805c1d46ef49851de43750a665a993eef750b560159...           502   \n",
       "2362  fa7805c1d46ef49851de43750a665a993eef750b560159...           502   \n",
       "2363  fa7805c1d46ef49851de43750a665a993eef750b560159...           502   \n",
       "2364  fa7805c1d46ef49851de43750a665a993eef750b560159...           502   \n",
       "\n",
       "      ProblemID     Label  \n",
       "0            41  0.855945  \n",
       "1            43  0.883483  \n",
       "2            44  0.898083  \n",
       "3            46  0.875365  \n",
       "4            49  0.875623  \n",
       "...         ...       ...  \n",
       "2360         64  0.221462  \n",
       "2361         70  0.125746  \n",
       "2362         71  0.205003  \n",
       "2363        112  0.203444  \n",
       "2364        118  0.204787  \n",
       "\n",
       "[2365 rows x 4 columns]"
      ]
     },
     "execution_count": 12,
     "metadata": {},
     "output_type": "execute_result"
    }
   ],
   "source": [
    "df_submit"
   ]
  },
  {
   "cell_type": "code",
   "execution_count": null,
   "id": "03c2c723",
   "metadata": {},
   "outputs": [],
   "source": []
  }
 ],
 "metadata": {
  "kernelspec": {
   "display_name": "4s_dev",
   "language": "python",
   "name": "4s_dev"
  },
  "language_info": {
   "codemirror_mode": {
    "name": "ipython",
    "version": 3
   },
   "file_extension": ".py",
   "mimetype": "text/x-python",
   "name": "python",
   "nbconvert_exporter": "python",
   "pygments_lexer": "ipython3",
   "version": "3.7.5"
  },
  "toc": {
   "base_numbering": 1,
   "nav_menu": {},
   "number_sections": true,
   "sideBar": true,
   "skip_h1_title": false,
   "title_cell": "Table of Contents",
   "title_sidebar": "Contents",
   "toc_cell": false,
   "toc_position": {},
   "toc_section_display": true,
   "toc_window_display": false
  }
 },
 "nbformat": 4,
 "nbformat_minor": 5
}
