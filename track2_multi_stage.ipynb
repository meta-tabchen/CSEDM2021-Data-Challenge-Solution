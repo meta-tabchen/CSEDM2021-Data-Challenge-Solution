{
 "cells": [
  {
   "cell_type": "code",
   "execution_count": 1,
   "id": "d788c0e4",
   "metadata": {},
   "outputs": [
    {
     "name": "stdout",
     "output_type": "stream",
     "text": [
      "LGBM Version 3.3.2\n",
      "catboost Version 1.0.4\n",
      "xgboost Version 1.5.1\n"
     ]
    }
   ],
   "source": [
    "import os\n",
    "import pandas as pd\n",
    "from utils.metrics import get_model_metrics\n",
    "from utils.data_loader import *\n",
    "from track2_mult_stage_utils import *\n",
    "import numpy as np\n",
    "from sklearn.metrics import mean_squared_error\n",
    "from tqdm import tqdm_notebook\n",
    "import seaborn as sns\n",
    "from utils.utils import set_seed\n",
    "import random\n",
    "import math"
   ]
  },
  {
   "cell_type": "markdown",
   "id": "be83f16d",
   "metadata": {},
   "source": [
    "## Get features"
   ]
  },
  {
   "cell_type": "code",
   "execution_count": 2,
   "id": "23b98947",
   "metadata": {},
   "outputs": [],
   "source": [
    "problem_ids = [1,   3,   5,  12,  13,  17,  20,  21,  22,  24,  25,  28,  31,\n",
    "               32,  33,  34,  36,  37,  38,  39,  40, 100, 101, 102, 128, 232,\n",
    "               233, 234, 235, 236]"
   ]
  },
  {
   "cell_type": "code",
   "execution_count": 3,
   "id": "5e8f4fef",
   "metadata": {},
   "outputs": [
    {
     "data": {
      "text/plain": [
       "30"
      ]
     },
     "execution_count": 3,
     "metadata": {},
     "output_type": "execute_result"
    }
   ],
   "source": [
    "train_data_dir = \"data/csedm_2021/datashop/F19_Release_Train_06-28-21/Train/\"\n",
    "early,late,main_table,code_state,subject,metadata = load_raw_data(train_data_dir)\n",
    "main_table = main_table[main_table['ProblemID'].isin(problem_ids)]\n",
    "main_table['ProblemID'].unique().size"
   ]
  },
  {
   "cell_type": "code",
   "execution_count": 4,
   "id": "7ef3c0d0",
   "metadata": {},
   "outputs": [
    {
     "data": {
      "text/plain": [
       "18"
      ]
     },
     "execution_count": 4,
     "metadata": {},
     "output_type": "execute_result"
    }
   ],
   "source": [
    "que_info_dict = json.load(open('data/csedm_2021/que_info_dict.json'))\n",
    "concept_list = json.load(open('data/csedm_2021/concept_list.json'))\n",
    "len(concept_list)"
   ]
  },
  {
   "cell_type": "code",
   "execution_count": 5,
   "id": "17a50ffd",
   "metadata": {},
   "outputs": [],
   "source": [
    "from sklearn.preprocessing import StandardScaler,MinMaxScaler\n",
    "label_scaler = MinMaxScaler()\n",
    "label_scaler.fit(subject['X-Grade'].values.reshape(-1, 1))\n",
    "subject['X-Grade_norm'] = label_scaler.transform(\n",
    "    subject['X-Grade'].values.reshape(-1, 1))\n",
    "subject_2_score = dict(zip(subject['SubjectID'],subject['X-Grade']))"
   ]
  },
  {
   "cell_type": "code",
   "execution_count": 6,
   "id": "72a7ddb5",
   "metadata": {},
   "outputs": [],
   "source": [
    "def get_list_feature(x, col_name):\n",
    "    features = []\n",
    "    feature_cols = []\n",
    "    for fuc_name in ['mean', 'std', 'median', 'max', 'min']:\n",
    "        value = eval(f\"np.{fuc_name}(x)\")\n",
    "        feature_col = f\"{col_name}_{fuc_name}\"\n",
    "        features.append(value)\n",
    "        feature_cols.append(feature_col)\n",
    "\n",
    "    for p in [25, 50, 75]:\n",
    "        value = eval(f\"np.percentile(x,{p})\")\n",
    "        feature_col = f\"{col_name}_percentile_{p}\"\n",
    "        features.append(value)\n",
    "        feature_cols.append(feature_col)\n",
    "    return features, feature_cols"
   ]
  },
  {
   "cell_type": "code",
   "execution_count": 7,
   "id": "add623e2",
   "metadata": {},
   "outputs": [],
   "source": [
    "def padding_and_cut(a, padding_token=1, max_len=5):\n",
    "    if len(a) > 5:\n",
    "        return a[:5]\n",
    "    else:\n",
    "        padding_len = max_len - len(a)\n",
    "        a = a+[padding_token]*padding_len\n",
    "    return a\n",
    "\n",
    "\n",
    "def get_first_avg_score(group, stu_main_table):\n",
    "    user_score_list = []\n",
    "    for problem, user_p_group in stu_main_table[stu_main_table['EventType'] == \"Run.Program\"].groupby(\"ProblemID\"):\n",
    "        first_5_score = padding_and_cut(\n",
    "            list(user_p_group['Score'].values), max_len=5)\n",
    "        user_score_list.append(first_5_score)\n",
    "    first_avg_score = np.array(user_score_list).mean(axis=0)\n",
    "    features = list(first_avg_score)\n",
    "    feature_cols = [f\"first_{i+1}_avg_score\" for i in range(5)]\n",
    "    return features, feature_cols"
   ]
  },
  {
   "cell_type": "code",
   "execution_count": 8,
   "id": "cee0da4f",
   "metadata": {},
   "outputs": [],
   "source": [
    "def get_student_que_features(group,stu_main_table):\n",
    "    duration_list, score_list = [], []\n",
    "    for _, stu_que_main_tabel in stu_main_table.groupby(\"ProblemID\"):\n",
    "        duration = (stu_que_main_tabel['ms_timestamp'].max(\n",
    "        )-stu_que_main_tabel['ms_timestamp'].min())//1000/60\n",
    "        duration_list.append(duration)\n",
    "        score_list.extend(\n",
    "            stu_que_main_tabel[~stu_que_main_tabel['Score'].isna()]['Score'].tolist())\n",
    "    \n",
    "    features,feature_cols = get_list_feature(duration_list,col_name='duration')\n",
    "    score_features,score_feature_cols = get_list_feature(score_list,col_name='score')\n",
    "    features.extend(score_features)\n",
    "    feature_cols.extend(score_feature_cols)\n",
    "    return features, feature_cols\n",
    "\n",
    "def get_concept_features(group, stu_main_table):\n",
    "    concepts_dict_tmp = {}\n",
    "    for _, row in group.iterrows():\n",
    "        que_info = que_info_dict[str(row['ProblemID'])]\n",
    "        for concept in que_info['concepts']:\n",
    "            if concept not in concepts_dict_tmp:\n",
    "                concepts_dict_tmp[concept] = []\n",
    "            concepts_dict_tmp[concept].append(row['Label'])\n",
    "    features = []\n",
    "    feature_cols = []\n",
    "    for concept in concept_list:\n",
    "        if concept in concepts_dict_tmp:\n",
    "            correct_num = concepts_dict_tmp.get(concept, []).count(1)\n",
    "            error_num = concepts_dict_tmp.get(concept, []).count(0)\n",
    "        features.extend([correct_num, error_num])\n",
    "        feature_cols.extend([f\"{concept}_correct_num\", f\"{concept}_error_num\"])\n",
    "    return features, feature_cols"
   ]
  },
  {
   "cell_type": "code",
   "execution_count": 9,
   "id": "428ab1fb",
   "metadata": {},
   "outputs": [],
   "source": [
    "def get_each_question_features(group, stu_main_table):\n",
    "    features, feature_cols = [], []\n",
    "    for problem in problem_ids:\n",
    "        problem_group = group[group[\"ProblemID\"] == problem]\n",
    "        stu_one_que_tabel = stu_main_table[stu_main_table[\"ProblemID\"] == problem]\n",
    "        if len(problem_group) != 0:\n",
    "            label = int(problem_group.iloc[0][\"Label\"])\n",
    "            attempts = int(problem_group.iloc[0][\"Attempts\"])\n",
    "            correct = int(problem_group.iloc[0][\"CorrectEventually\"])\n",
    "            duration = (stu_one_que_tabel['ms_timestamp'].max(\n",
    "            )-stu_one_que_tabel['ms_timestamp'].min())//1000/60\n",
    "            duration = min(duration,24*60)\n",
    "            max_score = stu_one_que_tabel['Score'].fillna(0).max()\n",
    "        else:\n",
    "            if len(stu_one_que_tabel) != 0:\n",
    "                print(stu_id)\n",
    "            label = 2\n",
    "            attempts = 0\n",
    "            correct = 0\n",
    "            duration = 24*60#一天\n",
    "            max_score = 0\n",
    "        features.extend([label, attempts, correct, duration, max_score])\n",
    "        feature_cols.extend([f\"each_{problem}_label\", \n",
    "                             f\"each_{problem}_attempts\", \n",
    "                             f\"each_{problem}_correct\", \n",
    "                             f\"each_{problem}_duration\", \n",
    "                             f\"each_{problem}_max_score\"])\n",
    "    return features, feature_cols"
   ]
  },
  {
   "cell_type": "code",
   "execution_count": 10,
   "id": "97197fa2",
   "metadata": {},
   "outputs": [],
   "source": [
    "def get_student_features(group, stu_main_table):\n",
    "    \"\"\"获取一个学生的特征\"\"\"\n",
    "    wrong_question_num = group['Label'].value_counts().to_dict().get(False, 0)\n",
    "    wrong_question_num_log = math.log(1+wrong_question_num)\n",
    "    correct_question_num = group['Label'].value_counts().to_dict().get(True, 0)\n",
    "    correct_question_num_log = math.log(1+correct_question_num)\n",
    "\n",
    "    feature_cols = [\"wrong_question_num\", \"wrong_question_num_log\",\n",
    "                    \"correct_question_num\", \"correct_question_num_log\"]\n",
    "    features = [wrong_question_num, wrong_question_num_log,\n",
    "                correct_question_num, correct_question_num_log]\n",
    "\n",
    "    # 尝试次数\n",
    "    attempt_features, attempt_feature_cols = get_list_feature(\n",
    "        group['Attempts'].tolist(), col_name='Attempts')\n",
    "\n",
    "    # group['CorrectEventually']\n",
    "    correct_env_features, correct_env_feature_cols = get_list_feature(\n",
    "        group['CorrectEventually'].tolist(), \"CorrectEventually\")\n",
    "    # label\n",
    "    label_features, label_feature_cols = get_list_feature(\n",
    "        group['Label'].tolist(), \"label\")\n",
    "\n",
    "    stu_que_features, stu_que_feature_cols = get_student_que_features(\n",
    "        group, stu_main_table)\n",
    "\n",
    "    first_avg_features, first_avg_feature_cols = get_first_avg_score(\n",
    "        group, stu_main_table)\n",
    "\n",
    "    concept_features, concept_feature_cols = get_concept_features(\n",
    "        group, stu_main_table)\n",
    "\n",
    "    # each que\n",
    "    each_que_features, each_que_feature_cols = get_each_question_features(\n",
    "        group, stu_main_table)\n",
    "\n",
    "    # merge features\n",
    "    features = features+attempt_features + \\\n",
    "        correct_env_features+stu_que_features+first_avg_features + \\\n",
    "        concept_features+label_features+each_que_features\n",
    "\n",
    "    feature_cols = feature_cols+attempt_feature_cols + \\\n",
    "        correct_env_feature_cols+stu_que_feature_cols + \\\n",
    "        first_avg_feature_cols+concept_feature_cols + \\\n",
    "        label_feature_cols+each_que_feature_cols\n",
    "    return features, feature_cols"
   ]
  },
  {
   "cell_type": "code",
   "execution_count": 11,
   "id": "9ffe8b4b",
   "metadata": {},
   "outputs": [],
   "source": [
    "def get_feature(df, main_table, subject_2_score, mode='train'):\n",
    "    x_list = []\n",
    "    y_list = []\n",
    "    stu_ids = []\n",
    "    for stu_id, group in tqdm_notebook(df.groupby(\"SubjectID\")):\n",
    "        stu_ids.append(stu_id)\n",
    "        stu_main_table = main_table[main_table[\"SubjectID\"] == stu_id]\n",
    "        features, feature_cols = get_student_features(group,stu_main_table)\n",
    "        x_list.append(features)\n",
    "        if mode == 'train':\n",
    "            y_list.append(subject_2_score[stu_id])\n",
    "    x = np.array(x_list)\n",
    "    if mode == 'train':\n",
    "        y = np.array(y_list)\n",
    "    else:\n",
    "        y = None\n",
    "    return x, feature_cols,y,stu_ids"
   ]
  },
  {
   "cell_type": "markdown",
   "id": "32e2e035",
   "metadata": {},
   "source": [
    "### Extract features"
   ]
  },
  {
   "cell_type": "code",
   "execution_count": 12,
   "id": "427e7bc7",
   "metadata": {},
   "outputs": [],
   "source": [
    "import pickle"
   ]
  },
  {
   "cell_type": "code",
   "execution_count": 13,
   "id": "c135f351",
   "metadata": {},
   "outputs": [
    {
     "name": "stderr",
     "output_type": "stream",
     "text": [
      "/root/anaconda3/envs/4s_dev/lib/python3.7/site-packages/ipykernel_launcher.py:5: TqdmDeprecationWarning: This function will be removed in tqdm==5.0.0\n",
      "Please use `tqdm.notebook.tqdm` instead of `tqdm.tqdm_notebook`\n",
      "  \"\"\"\n"
     ]
    },
    {
     "data": {
      "application/vnd.jupyter.widget-view+json": {
       "model_id": "54b2b126186a4864be66000a341c3c78",
       "version_major": 2,
       "version_minor": 0
      },
      "text/plain": [
       "  0%|          | 0/367 [00:00<?, ?it/s]"
      ]
     },
     "metadata": {},
     "output_type": "display_data"
    }
   ],
   "source": [
    "x, feature_cols, y, stu_ids = get_feature(\n",
    "    early, main_table, subject_2_score, mode='train')"
   ]
  },
  {
   "cell_type": "code",
   "execution_count": 14,
   "id": "65c6c11f",
   "metadata": {},
   "outputs": [],
   "source": [
    "with open('data/csedm_2021/task2_features/all_train.pkl','wb') as f:\n",
    "    pickle.dump([x, feature_cols, y, stu_ids],f)"
   ]
  },
  {
   "cell_type": "code",
   "execution_count": 15,
   "id": "fff53742",
   "metadata": {},
   "outputs": [],
   "source": [
    "test_data_dir = \"data/csedm_2021/datashop/F19_Release_Test_06-28-21/Test\"\n",
    "early_test,late_test,main_table_test,code_state_test,subject_test,metadata_test = load_raw_data(test_data_dir)"
   ]
  },
  {
   "cell_type": "code",
   "execution_count": 16,
   "id": "a3a783e8",
   "metadata": {},
   "outputs": [
    {
     "name": "stderr",
     "output_type": "stream",
     "text": [
      "/root/anaconda3/envs/4s_dev/lib/python3.7/site-packages/ipykernel_launcher.py:5: TqdmDeprecationWarning: This function will be removed in tqdm==5.0.0\n",
      "Please use `tqdm.notebook.tqdm` instead of `tqdm.tqdm_notebook`\n",
      "  \"\"\"\n"
     ]
    },
    {
     "data": {
      "application/vnd.jupyter.widget-view+json": {
       "model_id": "e23e7548845e4362977fc47af100974e",
       "version_major": 2,
       "version_minor": 0
      },
      "text/plain": [
       "  0%|          | 0/123 [00:00<?, ?it/s]"
      ]
     },
     "metadata": {},
     "output_type": "display_data"
    }
   ],
   "source": [
    "x_final_test, feature_cols, y, stu_ids = get_feature(\n",
    "    early_test, main_table_test, subject_2_score={}, mode='test')"
   ]
  },
  {
   "cell_type": "code",
   "execution_count": 17,
   "id": "aef6cc74",
   "metadata": {},
   "outputs": [],
   "source": [
    "with open('data/csedm_2021/task2_features/final_test.pkl','wb') as f:\n",
    "    pickle.dump([x_final_test, feature_cols, y, stu_ids],f)"
   ]
  },
  {
   "cell_type": "code",
   "execution_count": 18,
   "id": "f34c0dd4",
   "metadata": {},
   "outputs": [
    {
     "data": {
      "text/plain": [
       "(367,)"
      ]
     },
     "execution_count": 18,
     "metadata": {},
     "output_type": "execute_result"
    }
   ],
   "source": [
    "all_train_stu_ids = early['SubjectID'].unique()\n",
    "all_train_stu_ids.shape"
   ]
  },
  {
   "cell_type": "markdown",
   "id": "51c73061",
   "metadata": {},
   "source": [
    "### Feature selection"
   ]
  },
  {
   "cell_type": "code",
   "execution_count": 19,
   "id": "531bcbaa",
   "metadata": {},
   "outputs": [],
   "source": [
    "x_all,feature_cols,y_all,stu_ids = load_pickle('data/csedm_2021/task2_features/all_train.pkl')"
   ]
  },
  {
   "cell_type": "code",
   "execution_count": 20,
   "id": "437a7e83",
   "metadata": {},
   "outputs": [
    {
     "data": {
      "text/plain": [
       "XGBRegressor(base_score=0.5, booster='gbtree', colsample_bylevel=1,\n",
       "             colsample_bynode=1, colsample_bytree=1, enable_categorical=False,\n",
       "             gamma=0, gpu_id=3, importance_type=None,\n",
       "             interaction_constraints='', learning_rate=0.300000012,\n",
       "             max_delta_step=0, max_depth=6, min_child_weight=1, missing=nan,\n",
       "             monotone_constraints='()', n_estimators=100, n_jobs=10,\n",
       "             num_parallel_tree=1, predictor='auto', random_state=0, reg_alpha=0,\n",
       "             reg_lambda=1, scale_pos_weight=1, subsample=1,\n",
       "             tree_method='gpu_hist', validate_parameters=1, verbosity=None)"
      ]
     },
     "execution_count": 20,
     "metadata": {},
     "output_type": "execute_result"
    }
   ],
   "source": [
    "model = xgboost.XGBRegressor(\n",
    "    tree_method='gpu_hist', gpu_id=3, n_jobs=10, random_state=0)\n",
    "model.fit(\n",
    "    x_all, y_all,\n",
    "    verbose=100\n",
    ")"
   ]
  },
  {
   "cell_type": "code",
   "execution_count": 21,
   "id": "c732498e",
   "metadata": {},
   "outputs": [],
   "source": [
    "df_importance = pd.DataFrame({\"importance\": model.feature_importances_, \n",
    "                              \"feature_name\": feature_cols,\n",
    "                              'feature_index':range(len(feature_cols))})"
   ]
  },
  {
   "cell_type": "code",
   "execution_count": 22,
   "id": "dc6f4d08",
   "metadata": {},
   "outputs": [
    {
     "data": {
      "text/html": [
       "<div>\n",
       "<style scoped>\n",
       "    .dataframe tbody tr th:only-of-type {\n",
       "        vertical-align: middle;\n",
       "    }\n",
       "\n",
       "    .dataframe tbody tr th {\n",
       "        vertical-align: top;\n",
       "    }\n",
       "\n",
       "    .dataframe thead th {\n",
       "        text-align: right;\n",
       "    }\n",
       "</style>\n",
       "<table border=\"1\" class=\"dataframe\">\n",
       "  <thead>\n",
       "    <tr style=\"text-align: right;\">\n",
       "      <th></th>\n",
       "      <th>importance</th>\n",
       "      <th>feature_name</th>\n",
       "      <th>feature_index</th>\n",
       "    </tr>\n",
       "  </thead>\n",
       "  <tbody>\n",
       "    <tr>\n",
       "      <th>204</th>\n",
       "      <td>0.136448</td>\n",
       "      <td>each_102_max_score</td>\n",
       "      <td>204</td>\n",
       "    </tr>\n",
       "    <tr>\n",
       "      <th>151</th>\n",
       "      <td>0.130564</td>\n",
       "      <td>each_32_attempts</td>\n",
       "      <td>151</td>\n",
       "    </tr>\n",
       "    <tr>\n",
       "      <th>109</th>\n",
       "      <td>0.050724</td>\n",
       "      <td>each_13_max_score</td>\n",
       "      <td>109</td>\n",
       "    </tr>\n",
       "    <tr>\n",
       "      <th>52</th>\n",
       "      <td>0.029574</td>\n",
       "      <td>Math+-*/_error_num</td>\n",
       "      <td>52</td>\n",
       "    </tr>\n",
       "    <tr>\n",
       "      <th>44</th>\n",
       "      <td>0.028632</td>\n",
       "      <td>NestedIf_error_num</td>\n",
       "      <td>44</td>\n",
       "    </tr>\n",
       "    <tr>\n",
       "      <th>...</th>\n",
       "      <td>...</td>\n",
       "      <td>...</td>\n",
       "      <td>...</td>\n",
       "    </tr>\n",
       "    <tr>\n",
       "      <th>107</th>\n",
       "      <td>0.000000</td>\n",
       "      <td>each_13_correct</td>\n",
       "      <td>107</td>\n",
       "    </tr>\n",
       "    <tr>\n",
       "      <th>104</th>\n",
       "      <td>0.000000</td>\n",
       "      <td>each_12_max_score</td>\n",
       "      <td>104</td>\n",
       "    </tr>\n",
       "    <tr>\n",
       "      <th>102</th>\n",
       "      <td>0.000000</td>\n",
       "      <td>each_12_correct</td>\n",
       "      <td>102</td>\n",
       "    </tr>\n",
       "    <tr>\n",
       "      <th>99</th>\n",
       "      <td>0.000000</td>\n",
       "      <td>each_5_max_score</td>\n",
       "      <td>99</td>\n",
       "    </tr>\n",
       "    <tr>\n",
       "      <th>234</th>\n",
       "      <td>0.000000</td>\n",
       "      <td>each_236_max_score</td>\n",
       "      <td>234</td>\n",
       "    </tr>\n",
       "  </tbody>\n",
       "</table>\n",
       "<p>235 rows × 3 columns</p>\n",
       "</div>"
      ],
      "text/plain": [
       "     importance        feature_name  feature_index\n",
       "204    0.136448  each_102_max_score            204\n",
       "151    0.130564    each_32_attempts            151\n",
       "109    0.050724   each_13_max_score            109\n",
       "52     0.029574  Math+-*/_error_num             52\n",
       "44     0.028632  NestedIf_error_num             44\n",
       "..          ...                 ...            ...\n",
       "107    0.000000     each_13_correct            107\n",
       "104    0.000000   each_12_max_score            104\n",
       "102    0.000000     each_12_correct            102\n",
       "99     0.000000    each_5_max_score             99\n",
       "234    0.000000  each_236_max_score            234\n",
       "\n",
       "[235 rows x 3 columns]"
      ]
     },
     "execution_count": 22,
     "metadata": {},
     "output_type": "execute_result"
    }
   ],
   "source": [
    "df_importance.sort_values('importance',ascending=False)"
   ]
  },
  {
   "cell_type": "code",
   "execution_count": 23,
   "id": "daa42798",
   "metadata": {},
   "outputs": [],
   "source": [
    "df_importance.to_csv('data/csedm_2021/task2_features/df_importance.csv',index=False)"
   ]
  },
  {
   "cell_type": "markdown",
   "id": "0935ac75",
   "metadata": {},
   "source": [
    "### CV"
   ]
  },
  {
   "cell_type": "code",
   "execution_count": 24,
   "id": "a5e78aec",
   "metadata": {},
   "outputs": [],
   "source": [
    "from sklearn.model_selection import KFold"
   ]
  },
  {
   "cell_type": "code",
   "execution_count": 25,
   "id": "1301f32e",
   "metadata": {},
   "outputs": [],
   "source": [
    "kf = KFold(n_splits=5,shuffle=True,random_state=0)"
   ]
  },
  {
   "cell_type": "code",
   "execution_count": 26,
   "id": "49d819dc",
   "metadata": {},
   "outputs": [],
   "source": [
    "stu_ids = early['SubjectID'].unique()"
   ]
  },
  {
   "cell_type": "code",
   "execution_count": 27,
   "id": "07718fc0",
   "metadata": {},
   "outputs": [],
   "source": [
    "split_info = {}\n",
    "i = 0\n",
    "for train_index, test_index in kf.split(stu_ids):\n",
    "    split_info[i] = [stu_ids[train_index],stu_ids[test_index],train_index,test_index]\n",
    "    i +=1"
   ]
  },
  {
   "cell_type": "code",
   "execution_count": 28,
   "id": "05f564c1",
   "metadata": {},
   "outputs": [],
   "source": [
    "with open('data/csedm_2021/task2_features/split_info.pkl','wb') as f:\n",
    "    pickle.dump(split_info,f)"
   ]
  },
  {
   "cell_type": "markdown",
   "id": "7103d70c",
   "metadata": {},
   "source": [
    "## Search for each model"
   ]
  },
  {
   "cell_type": "code",
   "execution_count": 29,
   "id": "c2ca7000",
   "metadata": {},
   "outputs": [],
   "source": [
    "x_all,feature_cols,y_all,stu_ids = load_pickle('data/csedm_2021/task2_features/all_train.pkl')"
   ]
  },
  {
   "cell_type": "code",
   "execution_count": 30,
   "id": "c789db81",
   "metadata": {},
   "outputs": [
    {
     "data": {
      "text/plain": [
       "((367, 235), (367,))"
      ]
     },
     "execution_count": 30,
     "metadata": {},
     "output_type": "execute_result"
    }
   ],
   "source": [
    "x_all.shape, y_all.shape"
   ]
  },
  {
   "cell_type": "markdown",
   "id": "18c2541c",
   "metadata": {},
   "source": [
    "### gbdt"
   ]
  },
  {
   "cell_type": "code",
   "execution_count": 31,
   "id": "766ad32c",
   "metadata": {},
   "outputs": [],
   "source": [
    "from sklearn.model_selection import GridSearchCV\n",
    "from sklearn.ensemble import GradientBoostingRegressor"
   ]
  },
  {
   "cell_type": "code",
   "execution_count": 32,
   "id": "b01d47b7",
   "metadata": {},
   "outputs": [],
   "source": [
    "RANDOM_STATE = 0"
   ]
  },
  {
   "cell_type": "code",
   "execution_count": 33,
   "id": "535ebe4b",
   "metadata": {},
   "outputs": [],
   "source": [
    "# param_grid = {\n",
    "#     'max_depth': [1,2,3],\n",
    "#     'n_estimators': range(0, 50, 5),\n",
    "#     'subsample': [0.5,0.6,0.7, 0.8, 0.9,1],\n",
    "#     'random_state':[0]\n",
    "# }\n",
    "\n",
    "param_grid = {\n",
    "    'random_state':[0]\n",
    "}"
   ]
  },
  {
   "cell_type": "code",
   "execution_count": 34,
   "id": "5c85be20",
   "metadata": {
    "scrolled": true
   },
   "outputs": [
    {
     "name": "stdout",
     "output_type": "stream",
     "text": [
      "Fitting 5 folds for each of 1 candidates, totalling 5 fits\n",
      "[CV] END .....................................random_state=0; total time=   0.5s\n",
      "[CV] END .....................................random_state=0; total time=   0.5s\n",
      "[CV] END .....................................random_state=0; total time=   0.5s\n",
      "[CV] END .....................................random_state=0; total time=   0.5s\n",
      "[CV] END .....................................random_state=0; total time=   0.5s\n"
     ]
    },
    {
     "data": {
      "text/plain": [
       "GridSearchCV(cv=5, estimator=GradientBoostingRegressor(),\n",
       "             param_grid={'random_state': [0]}, refit='neg_mean_squared_error',\n",
       "             scoring='neg_mean_squared_error', verbose=2)"
      ]
     },
     "execution_count": 34,
     "metadata": {},
     "output_type": "execute_result"
    }
   ],
   "source": [
    "model = GradientBoostingRegressor()\n",
    "clf = GridSearchCV(model, param_grid, cv=5,\n",
    "                   scoring='neg_mean_squared_error', verbose=2, refit='neg_mean_squared_error')\n",
    "clf.fit(x_all, y_all)"
   ]
  },
  {
   "cell_type": "code",
   "execution_count": 35,
   "id": "316a80e2",
   "metadata": {},
   "outputs": [
    {
     "data": {
      "text/plain": [
       "(-213.6191717277252, {'random_state': 0})"
      ]
     },
     "execution_count": 35,
     "metadata": {},
     "output_type": "execute_result"
    }
   ],
   "source": [
    "clf.best_score_,clf.best_params_"
   ]
  },
  {
   "cell_type": "markdown",
   "id": "b5c44ed8",
   "metadata": {},
   "source": [
    "### adt"
   ]
  },
  {
   "cell_type": "code",
   "execution_count": 36,
   "id": "33e8203b",
   "metadata": {},
   "outputs": [],
   "source": [
    "from sklearn.model_selection import GridSearchCV\n",
    "from sklearn.ensemble import AdaBoostRegressor"
   ]
  },
  {
   "cell_type": "code",
   "execution_count": 37,
   "id": "437a581b",
   "metadata": {},
   "outputs": [],
   "source": [
    "RANDOM_STATE = 0"
   ]
  },
  {
   "cell_type": "code",
   "execution_count": 38,
   "id": "a3a69ba5",
   "metadata": {},
   "outputs": [],
   "source": [
    "ADA_PARAMS = {'n_estimators': 90, 'random_state': 0}"
   ]
  },
  {
   "cell_type": "code",
   "execution_count": 39,
   "id": "54a43338",
   "metadata": {},
   "outputs": [],
   "source": [
    "# param_grid = {\n",
    "#     'n_estimators': range(0, 100, 5),\n",
    "#     'random_state':[0]\n",
    "# }\n",
    "param_grid = {\n",
    "    'n_estimators': [15],\n",
    "    'random_state':[0]\n",
    "}"
   ]
  },
  {
   "cell_type": "code",
   "execution_count": 40,
   "id": "079de2b8",
   "metadata": {
    "scrolled": true
   },
   "outputs": [
    {
     "name": "stdout",
     "output_type": "stream",
     "text": [
      "Fitting 5 folds for each of 1 candidates, totalling 5 fits\n",
      "[CV] END ....................n_estimators=15, random_state=0; total time=   0.1s\n",
      "[CV] END ....................n_estimators=15, random_state=0; total time=   0.1s\n",
      "[CV] END ....................n_estimators=15, random_state=0; total time=   0.1s\n",
      "[CV] END ....................n_estimators=15, random_state=0; total time=   0.1s\n",
      "[CV] END ....................n_estimators=15, random_state=0; total time=   0.1s\n"
     ]
    },
    {
     "data": {
      "text/plain": [
       "GridSearchCV(cv=5, estimator=AdaBoostRegressor(),\n",
       "             param_grid={'n_estimators': [15], 'random_state': [0]},\n",
       "             refit='neg_mean_squared_error', scoring='neg_mean_squared_error',\n",
       "             verbose=2)"
      ]
     },
     "execution_count": 40,
     "metadata": {},
     "output_type": "execute_result"
    }
   ],
   "source": [
    "model = AdaBoostRegressor()\n",
    "clf = GridSearchCV(model, param_grid, cv=5,\n",
    "                   scoring='neg_mean_squared_error', verbose=2, refit='neg_mean_squared_error')\n",
    "clf.fit(x_all, y_all)"
   ]
  },
  {
   "cell_type": "code",
   "execution_count": 41,
   "id": "21501f14",
   "metadata": {},
   "outputs": [
    {
     "data": {
      "text/plain": [
       "(-233.1241588147217, {'n_estimators': 15, 'random_state': 0})"
      ]
     },
     "execution_count": 41,
     "metadata": {},
     "output_type": "execute_result"
    }
   ],
   "source": [
    "clf.best_score_,clf.best_params_"
   ]
  },
  {
   "cell_type": "code",
   "execution_count": null,
   "id": "cbe87d14",
   "metadata": {},
   "outputs": [],
   "source": []
  },
  {
   "cell_type": "code",
   "execution_count": null,
   "id": "7b7c9902",
   "metadata": {},
   "outputs": [],
   "source": []
  },
  {
   "cell_type": "markdown",
   "id": "f180946b",
   "metadata": {},
   "source": [
    "## models"
   ]
  },
  {
   "cell_type": "code",
   "execution_count": 42,
   "id": "0807e051",
   "metadata": {},
   "outputs": [],
   "source": [
    "x_all,feature_cols,y_all,stu_ids = load_pickle('data/csedm_2021/task2_features/all_train.pkl')\n",
    "x_test,_,_,stu_ids_test = load_pickle('data/csedm_2021/task2_features/final_test.pkl')\n",
    "split_info = load_pickle('data/csedm_2021/task2_features/split_info.pkl')"
   ]
  },
  {
   "cell_type": "code",
   "execution_count": 43,
   "id": "08b7991d",
   "metadata": {},
   "outputs": [],
   "source": [
    "df_importance = pd.read_csv(\n",
    "    'data/csedm_2021/task2_features/df_importance.csv').sort_values(\"importance\", ascending=False)\n",
    "top100_feature_index = df_importance[:100]['feature_index'].tolist()\n",
    "top50_feature_index = df_importance[:50]['feature_index'].tolist()\n",
    "all_feature_index = range(len(df_importance))\n",
    "each_feature_index = df_importance[df_importance['feature_name'].apply(lambda x:'each' in x)]['feature_index']"
   ]
  },
  {
   "cell_type": "markdown",
   "id": "e04c8e3b",
   "metadata": {},
   "source": [
    "### Get raw features"
   ]
  },
  {
   "cell_type": "code",
   "execution_count": 44,
   "id": "18fd9fb0",
   "metadata": {},
   "outputs": [
    {
     "name": "stderr",
     "output_type": "stream",
     "text": [
      "/root/anaconda3/envs/4s_dev/lib/python3.7/site-packages/ipykernel_launcher.py:2: TqdmDeprecationWarning: This function will be removed in tqdm==5.0.0\n",
      "Please use `tqdm.notebook.tqdm` instead of `tqdm.tqdm_notebook`\n",
      "  \n"
     ]
    },
    {
     "data": {
      "application/vnd.jupyter.widget-view+json": {
       "model_id": "7704744ce3674744878668f7c9032a9e",
       "version_major": 2,
       "version_minor": 0
      },
      "text/plain": [
       "  0%|          | 0/5 [00:00<?, ?it/s]"
      ]
     },
     "metadata": {},
     "output_type": "display_data"
    }
   ],
   "source": [
    "x_dev_list,y_dev_list = [],[]\n",
    "for fold in tqdm_notebook(range(5)):\n",
    "    x_train, y_train, x_dev, y_dev = get_fold_data(\n",
    "        fold, x_all, y_all, split_info, feature_index=all_feature_index)\n",
    "    x_dev_list.append(x_dev)\n",
    "    y_dev_list.append(y_dev)"
   ]
  },
  {
   "cell_type": "code",
   "execution_count": 45,
   "id": "de73e76d",
   "metadata": {},
   "outputs": [
    {
     "data": {
      "text/plain": [
       "((367, 235), (367,))"
      ]
     },
     "execution_count": 45,
     "metadata": {},
     "output_type": "execute_result"
    }
   ],
   "source": [
    "x_raw_dev = np.vstack(x_dev_list)\n",
    "y_raw_dev = np.hstack(y_dev_list)\n",
    "x_raw_dev.shape,y_raw_dev.shape"
   ]
  },
  {
   "cell_type": "markdown",
   "id": "b3240a46",
   "metadata": {},
   "source": [
    "### First stage"
   ]
  },
  {
   "cell_type": "code",
   "execution_count": 46,
   "id": "2b095ec6",
   "metadata": {},
   "outputs": [],
   "source": [
    "feature_index = all_feature_index\n",
    "model_list = ['cat','xgb','lgbm','ada','gbdt']"
   ]
  },
  {
   "cell_type": "code",
   "execution_count": 47,
   "id": "41b38658",
   "metadata": {
    "scrolled": true
   },
   "outputs": [
    {
     "data": {
      "application/vnd.jupyter.widget-view+json": {
       "model_id": "5018a4cbe7df443b8f6a21476bb382d2",
       "version_major": 2,
       "version_minor": 0
      },
      "text/plain": [
       "  0%|          | 0/5 [00:00<?, ?it/s]"
      ]
     },
     "metadata": {},
     "output_type": "display_data"
    },
    {
     "name": "stderr",
     "output_type": "stream",
     "text": [
      "Warning: Overfitting detector is active, thus evaluation metric is calculated on every iteration. 'metric_period' is ignored for evaluation metric.\n"
     ]
    },
    {
     "name": "stdout",
     "output_type": "stream",
     "text": [
      "0:\tlearn: 17.6772371\ttest: 16.6675018\tbest: 16.6675018 (0)\ttotal: 63.2ms\tremaining: 3m 9s\n",
      "Stopped by overfitting detector  (10 iterations wait)\n",
      "\n",
      "bestTest = 13.59877371\n",
      "bestIteration = 63\n",
      "\n",
      "Shrink model to first 64 iterations.\n",
      "Training until validation scores don't improve for 50 rounds\n",
      "[100]\ttrain's l2: 6.61048\tvalid's l2: 169.186\n",
      "Early stopping, best iteration is:\n",
      "[94]\ttrain's l2: 7.62126\tvalid's l2: 168.176\n"
     ]
    },
    {
     "name": "stderr",
     "output_type": "stream",
     "text": [
      "/root/anaconda3/envs/4s_dev/lib/python3.7/site-packages/lightgbm/engine.py:181: UserWarning: 'early_stopping_rounds' argument is deprecated and will be removed in a future release of LightGBM. Pass 'early_stopping()' callback via 'callbacks' argument instead.\n",
      "  _log_warning(\"'early_stopping_rounds' argument is deprecated and will be removed in a future release of LightGBM. \"\n",
      "/root/anaconda3/envs/4s_dev/lib/python3.7/site-packages/lightgbm/engine.py:239: UserWarning: 'verbose_eval' argument is deprecated and will be removed in a future release of LightGBM. Pass 'log_evaluation()' callback via 'callbacks' argument instead.\n",
      "  _log_warning(\"'verbose_eval' argument is deprecated and will be removed in a future release of LightGBM. \"\n",
      "Warning: Overfitting detector is active, thus evaluation metric is calculated on every iteration. 'metric_period' is ignored for evaluation metric.\n"
     ]
    },
    {
     "name": "stdout",
     "output_type": "stream",
     "text": [
      "0:\tlearn: 17.4250952\ttest: 18.0558661\tbest: 18.0558661 (0)\ttotal: 10.3ms\tremaining: 30.9s\n",
      "Stopped by overfitting detector  (10 iterations wait)\n",
      "\n",
      "bestTest = 14.56617814\n",
      "bestIteration = 36\n",
      "\n",
      "Shrink model to first 37 iterations.\n",
      "Training until validation scores don't improve for 50 rounds\n",
      "[100]\ttrain's l2: 6.64446\tvalid's l2: 203.561\n",
      "Early stopping, best iteration is:\n",
      "[74]\ttrain's l2: 12.6807\tvalid's l2: 200.5\n"
     ]
    },
    {
     "name": "stderr",
     "output_type": "stream",
     "text": [
      "/root/anaconda3/envs/4s_dev/lib/python3.7/site-packages/lightgbm/engine.py:181: UserWarning: 'early_stopping_rounds' argument is deprecated and will be removed in a future release of LightGBM. Pass 'early_stopping()' callback via 'callbacks' argument instead.\n",
      "  _log_warning(\"'early_stopping_rounds' argument is deprecated and will be removed in a future release of LightGBM. \"\n",
      "/root/anaconda3/envs/4s_dev/lib/python3.7/site-packages/lightgbm/engine.py:239: UserWarning: 'verbose_eval' argument is deprecated and will be removed in a future release of LightGBM. Pass 'log_evaluation()' callback via 'callbacks' argument instead.\n",
      "  _log_warning(\"'verbose_eval' argument is deprecated and will be removed in a future release of LightGBM. \"\n",
      "Warning: Overfitting detector is active, thus evaluation metric is calculated on every iteration. 'metric_period' is ignored for evaluation metric.\n"
     ]
    },
    {
     "name": "stdout",
     "output_type": "stream",
     "text": [
      "0:\tlearn: 17.5509582\ttest: 16.6831236\tbest: 16.6831236 (0)\ttotal: 10.2ms\tremaining: 30.7s\n",
      "Stopped by overfitting detector  (10 iterations wait)\n",
      "\n",
      "bestTest = 13.18023308\n",
      "bestIteration = 68\n",
      "\n",
      "Shrink model to first 69 iterations.\n",
      "Training until validation scores don't improve for 50 rounds\n",
      "[100]\ttrain's l2: 7.07039\tvalid's l2: 155.223\n"
     ]
    },
    {
     "name": "stderr",
     "output_type": "stream",
     "text": [
      "/root/anaconda3/envs/4s_dev/lib/python3.7/site-packages/lightgbm/engine.py:181: UserWarning: 'early_stopping_rounds' argument is deprecated and will be removed in a future release of LightGBM. Pass 'early_stopping()' callback via 'callbacks' argument instead.\n",
      "  _log_warning(\"'early_stopping_rounds' argument is deprecated and will be removed in a future release of LightGBM. \"\n",
      "/root/anaconda3/envs/4s_dev/lib/python3.7/site-packages/lightgbm/engine.py:239: UserWarning: 'verbose_eval' argument is deprecated and will be removed in a future release of LightGBM. Pass 'log_evaluation()' callback via 'callbacks' argument instead.\n",
      "  _log_warning(\"'verbose_eval' argument is deprecated and will be removed in a future release of LightGBM. \"\n"
     ]
    },
    {
     "name": "stdout",
     "output_type": "stream",
     "text": [
      "[200]\ttrain's l2: 1.14479\tvalid's l2: 154.108\n",
      "Early stopping, best iteration is:\n",
      "[153]\ttrain's l2: 2.27687\tvalid's l2: 153.133\n"
     ]
    },
    {
     "name": "stderr",
     "output_type": "stream",
     "text": [
      "Warning: Overfitting detector is active, thus evaluation metric is calculated on every iteration. 'metric_period' is ignored for evaluation metric.\n"
     ]
    },
    {
     "name": "stdout",
     "output_type": "stream",
     "text": [
      "0:\tlearn: 17.0314970\ttest: 19.0457916\tbest: 19.0457916 (0)\ttotal: 11.9ms\tremaining: 35.7s\n",
      "Stopped by overfitting detector  (10 iterations wait)\n",
      "\n",
      "bestTest = 15.38296947\n",
      "bestIteration = 86\n",
      "\n",
      "Shrink model to first 87 iterations.\n",
      "Training until validation scores don't improve for 50 rounds\n",
      "[100]\ttrain's l2: 6.13735\tvalid's l2: 215.212\n",
      "Early stopping, best iteration is:\n",
      "[88]\ttrain's l2: 8.43567\tvalid's l2: 212.907\n"
     ]
    },
    {
     "name": "stderr",
     "output_type": "stream",
     "text": [
      "/root/anaconda3/envs/4s_dev/lib/python3.7/site-packages/lightgbm/engine.py:181: UserWarning: 'early_stopping_rounds' argument is deprecated and will be removed in a future release of LightGBM. Pass 'early_stopping()' callback via 'callbacks' argument instead.\n",
      "  _log_warning(\"'early_stopping_rounds' argument is deprecated and will be removed in a future release of LightGBM. \"\n",
      "/root/anaconda3/envs/4s_dev/lib/python3.7/site-packages/lightgbm/engine.py:239: UserWarning: 'verbose_eval' argument is deprecated and will be removed in a future release of LightGBM. Pass 'log_evaluation()' callback via 'callbacks' argument instead.\n",
      "  _log_warning(\"'verbose_eval' argument is deprecated and will be removed in a future release of LightGBM. \"\n",
      "Warning: Overfitting detector is active, thus evaluation metric is calculated on every iteration. 'metric_period' is ignored for evaluation metric.\n"
     ]
    },
    {
     "name": "stdout",
     "output_type": "stream",
     "text": [
      "0:\tlearn: 17.2606935\ttest: 18.2236683\tbest: 18.2236683 (0)\ttotal: 10.5ms\tremaining: 31.5s\n",
      "Stopped by overfitting detector  (10 iterations wait)\n",
      "\n",
      "bestTest = 14.28190346\n",
      "bestIteration = 80\n",
      "\n",
      "Shrink model to first 81 iterations.\n",
      "Training until validation scores don't improve for 50 rounds\n",
      "Early stopping, best iteration is:\n",
      "[27]\ttrain's l2: 62.0877\tvalid's l2: 197.807\n"
     ]
    },
    {
     "name": "stderr",
     "output_type": "stream",
     "text": [
      "/root/anaconda3/envs/4s_dev/lib/python3.7/site-packages/lightgbm/engine.py:181: UserWarning: 'early_stopping_rounds' argument is deprecated and will be removed in a future release of LightGBM. Pass 'early_stopping()' callback via 'callbacks' argument instead.\n",
      "  _log_warning(\"'early_stopping_rounds' argument is deprecated and will be removed in a future release of LightGBM. \"\n",
      "/root/anaconda3/envs/4s_dev/lib/python3.7/site-packages/lightgbm/engine.py:239: UserWarning: 'verbose_eval' argument is deprecated and will be removed in a future release of LightGBM. Pass 'log_evaluation()' callback via 'callbacks' argument instead.\n",
      "  _log_warning(\"'verbose_eval' argument is deprecated and will be removed in a future release of LightGBM. \"\n"
     ]
    },
    {
     "data": {
      "application/vnd.jupyter.widget-view+json": {
       "model_id": "827495c921734c9a9cce321446faae77",
       "version_major": 2,
       "version_minor": 0
      },
      "text/plain": [
       "  0%|          | 0/5 [00:00<?, ?it/s]"
      ]
     },
     "metadata": {},
     "output_type": "display_data"
    },
    {
     "name": "stderr",
     "output_type": "stream",
     "text": [
      "Warning: Overfitting detector is active, thus evaluation metric is calculated on every iteration. 'metric_period' is ignored for evaluation metric.\n"
     ]
    },
    {
     "name": "stdout",
     "output_type": "stream",
     "text": [
      "0:\tlearn: 17.6230085\ttest: 16.6821561\tbest: 16.6821561 (0)\ttotal: 5.42ms\tremaining: 16.3s\n",
      "Stopped by overfitting detector  (10 iterations wait)\n",
      "\n",
      "bestTest = 13.61692735\n",
      "bestIteration = 41\n",
      "\n",
      "Shrink model to first 42 iterations.\n",
      "Training until validation scores don't improve for 50 rounds\n",
      "Early stopping, best iteration is:\n",
      "[32]\ttrain's l2: 56.4646\tvalid's l2: 175.754\n"
     ]
    },
    {
     "name": "stderr",
     "output_type": "stream",
     "text": [
      "/root/anaconda3/envs/4s_dev/lib/python3.7/site-packages/lightgbm/engine.py:181: UserWarning: 'early_stopping_rounds' argument is deprecated and will be removed in a future release of LightGBM. Pass 'early_stopping()' callback via 'callbacks' argument instead.\n",
      "  _log_warning(\"'early_stopping_rounds' argument is deprecated and will be removed in a future release of LightGBM. \"\n",
      "/root/anaconda3/envs/4s_dev/lib/python3.7/site-packages/lightgbm/engine.py:239: UserWarning: 'verbose_eval' argument is deprecated and will be removed in a future release of LightGBM. Pass 'log_evaluation()' callback via 'callbacks' argument instead.\n",
      "  _log_warning(\"'verbose_eval' argument is deprecated and will be removed in a future release of LightGBM. \"\n",
      "Warning: Overfitting detector is active, thus evaluation metric is calculated on every iteration. 'metric_period' is ignored for evaluation metric.\n"
     ]
    },
    {
     "name": "stdout",
     "output_type": "stream",
     "text": [
      "0:\tlearn: 17.3984864\ttest: 17.8901120\tbest: 17.8901120 (0)\ttotal: 5.64ms\tremaining: 16.9s\n",
      "Stopped by overfitting detector  (10 iterations wait)\n",
      "\n",
      "bestTest = 14.62079417\n",
      "bestIteration = 43\n",
      "\n",
      "Shrink model to first 44 iterations.\n"
     ]
    },
    {
     "name": "stderr",
     "output_type": "stream",
     "text": [
      "/root/anaconda3/envs/4s_dev/lib/python3.7/site-packages/lightgbm/engine.py:181: UserWarning: 'early_stopping_rounds' argument is deprecated and will be removed in a future release of LightGBM. Pass 'early_stopping()' callback via 'callbacks' argument instead.\n",
      "  _log_warning(\"'early_stopping_rounds' argument is deprecated and will be removed in a future release of LightGBM. \"\n",
      "/root/anaconda3/envs/4s_dev/lib/python3.7/site-packages/lightgbm/engine.py:239: UserWarning: 'verbose_eval' argument is deprecated and will be removed in a future release of LightGBM. Pass 'log_evaluation()' callback via 'callbacks' argument instead.\n",
      "  _log_warning(\"'verbose_eval' argument is deprecated and will be removed in a future release of LightGBM. \"\n"
     ]
    },
    {
     "name": "stdout",
     "output_type": "stream",
     "text": [
      "Training until validation scores don't improve for 50 rounds\n",
      "Early stopping, best iteration is:\n",
      "[21]\ttrain's l2: 82.4948\tvalid's l2: 209.882\n"
     ]
    },
    {
     "name": "stderr",
     "output_type": "stream",
     "text": [
      "Warning: Overfitting detector is active, thus evaluation metric is calculated on every iteration. 'metric_period' is ignored for evaluation metric.\n"
     ]
    },
    {
     "name": "stdout",
     "output_type": "stream",
     "text": [
      "0:\tlearn: 17.5404108\ttest: 16.6253145\tbest: 16.6253145 (0)\ttotal: 5.77ms\tremaining: 17.3s\n",
      "Stopped by overfitting detector  (10 iterations wait)\n",
      "\n",
      "bestTest = 13.05462976\n",
      "bestIteration = 80\n",
      "\n",
      "Shrink model to first 81 iterations.\n",
      "Training until validation scores don't improve for 50 rounds\n",
      "[100]\ttrain's l2: 8.22588\tvalid's l2: 166.749\n",
      "[200]\ttrain's l2: 1.51157\tvalid's l2: 165.907\n",
      "Early stopping, best iteration is:\n",
      "[184]\ttrain's l2: 1.86559\tvalid's l2: 165.393\n"
     ]
    },
    {
     "name": "stderr",
     "output_type": "stream",
     "text": [
      "/root/anaconda3/envs/4s_dev/lib/python3.7/site-packages/lightgbm/engine.py:181: UserWarning: 'early_stopping_rounds' argument is deprecated and will be removed in a future release of LightGBM. Pass 'early_stopping()' callback via 'callbacks' argument instead.\n",
      "  _log_warning(\"'early_stopping_rounds' argument is deprecated and will be removed in a future release of LightGBM. \"\n",
      "/root/anaconda3/envs/4s_dev/lib/python3.7/site-packages/lightgbm/engine.py:239: UserWarning: 'verbose_eval' argument is deprecated and will be removed in a future release of LightGBM. Pass 'log_evaluation()' callback via 'callbacks' argument instead.\n",
      "  _log_warning(\"'verbose_eval' argument is deprecated and will be removed in a future release of LightGBM. \"\n",
      "Warning: Overfitting detector is active, thus evaluation metric is calculated on every iteration. 'metric_period' is ignored for evaluation metric.\n"
     ]
    },
    {
     "name": "stdout",
     "output_type": "stream",
     "text": [
      "0:\tlearn: 17.0247113\ttest: 19.1422685\tbest: 19.1422685 (0)\ttotal: 5.67ms\tremaining: 17s\n",
      "Stopped by overfitting detector  (10 iterations wait)\n",
      "\n",
      "bestTest = 15.50212481\n",
      "bestIteration = 81\n",
      "\n",
      "Shrink model to first 82 iterations.\n"
     ]
    },
    {
     "name": "stderr",
     "output_type": "stream",
     "text": [
      "/root/anaconda3/envs/4s_dev/lib/python3.7/site-packages/lightgbm/engine.py:181: UserWarning: 'early_stopping_rounds' argument is deprecated and will be removed in a future release of LightGBM. Pass 'early_stopping()' callback via 'callbacks' argument instead.\n",
      "  _log_warning(\"'early_stopping_rounds' argument is deprecated and will be removed in a future release of LightGBM. \"\n",
      "/root/anaconda3/envs/4s_dev/lib/python3.7/site-packages/lightgbm/engine.py:239: UserWarning: 'verbose_eval' argument is deprecated and will be removed in a future release of LightGBM. Pass 'log_evaluation()' callback via 'callbacks' argument instead.\n",
      "  _log_warning(\"'verbose_eval' argument is deprecated and will be removed in a future release of LightGBM. \"\n"
     ]
    },
    {
     "name": "stdout",
     "output_type": "stream",
     "text": [
      "Training until validation scores don't improve for 50 rounds\n",
      "Early stopping, best iteration is:\n",
      "[34]\ttrain's l2: 51.8524\tvalid's l2: 226.84\n"
     ]
    },
    {
     "name": "stderr",
     "output_type": "stream",
     "text": [
      "Warning: Overfitting detector is active, thus evaluation metric is calculated on every iteration. 'metric_period' is ignored for evaluation metric.\n"
     ]
    },
    {
     "name": "stdout",
     "output_type": "stream",
     "text": [
      "0:\tlearn: 17.2573548\ttest: 18.1817142\tbest: 18.1817142 (0)\ttotal: 5.84ms\tremaining: 17.5s\n",
      "Stopped by overfitting detector  (10 iterations wait)\n",
      "\n",
      "bestTest = 15.06924752\n",
      "bestIteration = 41\n",
      "\n",
      "Shrink model to first 42 iterations.\n"
     ]
    },
    {
     "name": "stderr",
     "output_type": "stream",
     "text": [
      "/root/anaconda3/envs/4s_dev/lib/python3.7/site-packages/lightgbm/engine.py:181: UserWarning: 'early_stopping_rounds' argument is deprecated and will be removed in a future release of LightGBM. Pass 'early_stopping()' callback via 'callbacks' argument instead.\n",
      "  _log_warning(\"'early_stopping_rounds' argument is deprecated and will be removed in a future release of LightGBM. \"\n",
      "/root/anaconda3/envs/4s_dev/lib/python3.7/site-packages/lightgbm/engine.py:239: UserWarning: 'verbose_eval' argument is deprecated and will be removed in a future release of LightGBM. Pass 'log_evaluation()' callback via 'callbacks' argument instead.\n",
      "  _log_warning(\"'verbose_eval' argument is deprecated and will be removed in a future release of LightGBM. \"\n"
     ]
    },
    {
     "name": "stdout",
     "output_type": "stream",
     "text": [
      "Training until validation scores don't improve for 50 rounds\n",
      "Early stopping, best iteration is:\n",
      "[35]\ttrain's l2: 49.6646\tvalid's l2: 203.157\n"
     ]
    },
    {
     "data": {
      "application/vnd.jupyter.widget-view+json": {
       "model_id": "68349b20db8b41f7bd2d7397f6d14048",
       "version_major": 2,
       "version_minor": 0
      },
      "text/plain": [
       "  0%|          | 0/5 [00:00<?, ?it/s]"
      ]
     },
     "metadata": {},
     "output_type": "display_data"
    },
    {
     "name": "stderr",
     "output_type": "stream",
     "text": [
      "Warning: Overfitting detector is active, thus evaluation metric is calculated on every iteration. 'metric_period' is ignored for evaluation metric.\n"
     ]
    },
    {
     "name": "stdout",
     "output_type": "stream",
     "text": [
      "0:\tlearn: 17.6316518\ttest: 16.7563670\tbest: 16.7563670 (0)\ttotal: 7.79ms\tremaining: 23.4s\n",
      "Stopped by overfitting detector  (10 iterations wait)\n",
      "\n",
      "bestTest = 14.00228718\n",
      "bestIteration = 66\n",
      "\n",
      "Shrink model to first 67 iterations.\n",
      "Training until validation scores don't improve for 50 rounds\n",
      "[100]\ttrain's l2: 9.96871\tvalid's l2: 190.444\n",
      "Early stopping, best iteration is:\n",
      "[55]\ttrain's l2: 31.3606\tvalid's l2: 184.953\n"
     ]
    },
    {
     "name": "stderr",
     "output_type": "stream",
     "text": [
      "/root/anaconda3/envs/4s_dev/lib/python3.7/site-packages/lightgbm/engine.py:181: UserWarning: 'early_stopping_rounds' argument is deprecated and will be removed in a future release of LightGBM. Pass 'early_stopping()' callback via 'callbacks' argument instead.\n",
      "  _log_warning(\"'early_stopping_rounds' argument is deprecated and will be removed in a future release of LightGBM. \"\n",
      "/root/anaconda3/envs/4s_dev/lib/python3.7/site-packages/lightgbm/engine.py:239: UserWarning: 'verbose_eval' argument is deprecated and will be removed in a future release of LightGBM. Pass 'log_evaluation()' callback via 'callbacks' argument instead.\n",
      "  _log_warning(\"'verbose_eval' argument is deprecated and will be removed in a future release of LightGBM. \"\n",
      "Warning: Overfitting detector is active, thus evaluation metric is calculated on every iteration. 'metric_period' is ignored for evaluation metric.\n"
     ]
    },
    {
     "name": "stdout",
     "output_type": "stream",
     "text": [
      "0:\tlearn: 17.4244242\ttest: 18.2005866\tbest: 18.2005866 (0)\ttotal: 6.28ms\tremaining: 18.8s\n",
      "Stopped by overfitting detector  (10 iterations wait)\n",
      "\n",
      "bestTest = 15.13816511\n",
      "bestIteration = 42\n",
      "\n",
      "Shrink model to first 43 iterations.\n",
      "Training until validation scores don't improve for 50 rounds\n",
      "Early stopping, best iteration is:\n",
      "[21]\ttrain's l2: 90.2725\tvalid's l2: 236.618\n"
     ]
    },
    {
     "name": "stderr",
     "output_type": "stream",
     "text": [
      "/root/anaconda3/envs/4s_dev/lib/python3.7/site-packages/lightgbm/engine.py:181: UserWarning: 'early_stopping_rounds' argument is deprecated and will be removed in a future release of LightGBM. Pass 'early_stopping()' callback via 'callbacks' argument instead.\n",
      "  _log_warning(\"'early_stopping_rounds' argument is deprecated and will be removed in a future release of LightGBM. \"\n",
      "/root/anaconda3/envs/4s_dev/lib/python3.7/site-packages/lightgbm/engine.py:239: UserWarning: 'verbose_eval' argument is deprecated and will be removed in a future release of LightGBM. Pass 'log_evaluation()' callback via 'callbacks' argument instead.\n",
      "  _log_warning(\"'verbose_eval' argument is deprecated and will be removed in a future release of LightGBM. \"\n",
      "Warning: Overfitting detector is active, thus evaluation metric is calculated on every iteration. 'metric_period' is ignored for evaluation metric.\n"
     ]
    },
    {
     "name": "stdout",
     "output_type": "stream",
     "text": [
      "0:\tlearn: 17.6390073\ttest: 16.7463199\tbest: 16.7463199 (0)\ttotal: 5.9ms\tremaining: 17.7s\n",
      "Stopped by overfitting detector  (10 iterations wait)\n",
      "\n",
      "bestTest = 13.45887657\n",
      "bestIteration = 55\n",
      "\n",
      "Shrink model to first 56 iterations.\n",
      "Training until validation scores don't improve for 50 rounds\n",
      "Early stopping, best iteration is:\n",
      "[29]\ttrain's l2: 74.0784\tvalid's l2: 198.417\n"
     ]
    },
    {
     "name": "stderr",
     "output_type": "stream",
     "text": [
      "/root/anaconda3/envs/4s_dev/lib/python3.7/site-packages/lightgbm/engine.py:181: UserWarning: 'early_stopping_rounds' argument is deprecated and will be removed in a future release of LightGBM. Pass 'early_stopping()' callback via 'callbacks' argument instead.\n",
      "  _log_warning(\"'early_stopping_rounds' argument is deprecated and will be removed in a future release of LightGBM. \"\n",
      "/root/anaconda3/envs/4s_dev/lib/python3.7/site-packages/lightgbm/engine.py:239: UserWarning: 'verbose_eval' argument is deprecated and will be removed in a future release of LightGBM. Pass 'log_evaluation()' callback via 'callbacks' argument instead.\n",
      "  _log_warning(\"'verbose_eval' argument is deprecated and will be removed in a future release of LightGBM. \"\n",
      "Warning: Overfitting detector is active, thus evaluation metric is calculated on every iteration. 'metric_period' is ignored for evaluation metric.\n"
     ]
    },
    {
     "name": "stdout",
     "output_type": "stream",
     "text": [
      "0:\tlearn: 17.0068753\ttest: 19.0419116\tbest: 19.0419116 (0)\ttotal: 6.24ms\tremaining: 18.7s\n",
      "Stopped by overfitting detector  (10 iterations wait)\n",
      "\n",
      "bestTest = 15.96242694\n",
      "bestIteration = 74\n",
      "\n",
      "Shrink model to first 75 iterations.\n",
      "Training until validation scores don't improve for 50 rounds\n",
      "Early stopping, best iteration is:\n",
      "[45]\ttrain's l2: 43.4333\tvalid's l2: 210.494\n"
     ]
    },
    {
     "name": "stderr",
     "output_type": "stream",
     "text": [
      "/root/anaconda3/envs/4s_dev/lib/python3.7/site-packages/lightgbm/engine.py:181: UserWarning: 'early_stopping_rounds' argument is deprecated and will be removed in a future release of LightGBM. Pass 'early_stopping()' callback via 'callbacks' argument instead.\n",
      "  _log_warning(\"'early_stopping_rounds' argument is deprecated and will be removed in a future release of LightGBM. \"\n",
      "/root/anaconda3/envs/4s_dev/lib/python3.7/site-packages/lightgbm/engine.py:239: UserWarning: 'verbose_eval' argument is deprecated and will be removed in a future release of LightGBM. Pass 'log_evaluation()' callback via 'callbacks' argument instead.\n",
      "  _log_warning(\"'verbose_eval' argument is deprecated and will be removed in a future release of LightGBM. \"\n",
      "Warning: Overfitting detector is active, thus evaluation metric is calculated on every iteration. 'metric_period' is ignored for evaluation metric.\n"
     ]
    },
    {
     "name": "stdout",
     "output_type": "stream",
     "text": [
      "0:\tlearn: 17.2763691\ttest: 18.2577357\tbest: 18.2577357 (0)\ttotal: 6.47ms\tremaining: 19.4s\n",
      "Stopped by overfitting detector  (10 iterations wait)\n",
      "\n",
      "bestTest = 15.17843662\n",
      "bestIteration = 59\n",
      "\n",
      "Shrink model to first 60 iterations.\n",
      "Training until validation scores don't improve for 50 rounds\n",
      "Early stopping, best iteration is:\n",
      "[22]\ttrain's l2: 83.6031\tvalid's l2: 233.447\n"
     ]
    },
    {
     "name": "stderr",
     "output_type": "stream",
     "text": [
      "/root/anaconda3/envs/4s_dev/lib/python3.7/site-packages/lightgbm/engine.py:181: UserWarning: 'early_stopping_rounds' argument is deprecated and will be removed in a future release of LightGBM. Pass 'early_stopping()' callback via 'callbacks' argument instead.\n",
      "  _log_warning(\"'early_stopping_rounds' argument is deprecated and will be removed in a future release of LightGBM. \"\n",
      "/root/anaconda3/envs/4s_dev/lib/python3.7/site-packages/lightgbm/engine.py:239: UserWarning: 'verbose_eval' argument is deprecated and will be removed in a future release of LightGBM. Pass 'log_evaluation()' callback via 'callbacks' argument instead.\n",
      "  _log_warning(\"'verbose_eval' argument is deprecated and will be removed in a future release of LightGBM. \"\n"
     ]
    },
    {
     "data": {
      "application/vnd.jupyter.widget-view+json": {
       "model_id": "116baa3bbc4741cbb5286392ff94941e",
       "version_major": 2,
       "version_minor": 0
      },
      "text/plain": [
       "  0%|          | 0/5 [00:00<?, ?it/s]"
      ]
     },
     "metadata": {},
     "output_type": "display_data"
    },
    {
     "name": "stderr",
     "output_type": "stream",
     "text": [
      "Warning: Overfitting detector is active, thus evaluation metric is calculated on every iteration. 'metric_period' is ignored for evaluation metric.\n"
     ]
    },
    {
     "name": "stdout",
     "output_type": "stream",
     "text": [
      "0:\tlearn: 17.5943275\ttest: 16.7333855\tbest: 16.7333855 (0)\ttotal: 4.23ms\tremaining: 12.7s\n",
      "Stopped by overfitting detector  (10 iterations wait)\n",
      "\n",
      "bestTest = 12.68943921\n",
      "bestIteration = 75\n",
      "\n",
      "Shrink model to first 76 iterations.\n"
     ]
    },
    {
     "name": "stderr",
     "output_type": "stream",
     "text": [
      "/root/anaconda3/envs/4s_dev/lib/python3.7/site-packages/lightgbm/engine.py:181: UserWarning: 'early_stopping_rounds' argument is deprecated and will be removed in a future release of LightGBM. Pass 'early_stopping()' callback via 'callbacks' argument instead.\n",
      "  _log_warning(\"'early_stopping_rounds' argument is deprecated and will be removed in a future release of LightGBM. \"\n",
      "/root/anaconda3/envs/4s_dev/lib/python3.7/site-packages/lightgbm/engine.py:239: UserWarning: 'verbose_eval' argument is deprecated and will be removed in a future release of LightGBM. Pass 'log_evaluation()' callback via 'callbacks' argument instead.\n",
      "  _log_warning(\"'verbose_eval' argument is deprecated and will be removed in a future release of LightGBM. \"\n"
     ]
    },
    {
     "name": "stdout",
     "output_type": "stream",
     "text": [
      "Training until validation scores don't improve for 50 rounds\n",
      "Early stopping, best iteration is:\n",
      "[20]\ttrain's l2: 99.223\tvalid's l2: 170.313\n"
     ]
    },
    {
     "name": "stderr",
     "output_type": "stream",
     "text": [
      "Warning: Overfitting detector is active, thus evaluation metric is calculated on every iteration. 'metric_period' is ignored for evaluation metric.\n"
     ]
    },
    {
     "name": "stdout",
     "output_type": "stream",
     "text": [
      "0:\tlearn: 17.3078178\ttest: 17.9300613\tbest: 17.9300613 (0)\ttotal: 4.13ms\tremaining: 12.4s\n",
      "Stopped by overfitting detector  (10 iterations wait)\n",
      "\n",
      "bestTest = 13.57799337\n",
      "bestIteration = 65\n",
      "\n",
      "Shrink model to first 66 iterations.\n"
     ]
    },
    {
     "name": "stderr",
     "output_type": "stream",
     "text": [
      "/root/anaconda3/envs/4s_dev/lib/python3.7/site-packages/lightgbm/engine.py:181: UserWarning: 'early_stopping_rounds' argument is deprecated and will be removed in a future release of LightGBM. Pass 'early_stopping()' callback via 'callbacks' argument instead.\n",
      "  _log_warning(\"'early_stopping_rounds' argument is deprecated and will be removed in a future release of LightGBM. \"\n",
      "/root/anaconda3/envs/4s_dev/lib/python3.7/site-packages/lightgbm/engine.py:239: UserWarning: 'verbose_eval' argument is deprecated and will be removed in a future release of LightGBM. Pass 'log_evaluation()' callback via 'callbacks' argument instead.\n",
      "  _log_warning(\"'verbose_eval' argument is deprecated and will be removed in a future release of LightGBM. \"\n"
     ]
    },
    {
     "name": "stdout",
     "output_type": "stream",
     "text": [
      "Training until validation scores don't improve for 50 rounds\n",
      "Early stopping, best iteration is:\n",
      "[29]\ttrain's l2: 69.1279\tvalid's l2: 203.439\n"
     ]
    },
    {
     "name": "stderr",
     "output_type": "stream",
     "text": [
      "Warning: Overfitting detector is active, thus evaluation metric is calculated on every iteration. 'metric_period' is ignored for evaluation metric.\n",
      "/root/anaconda3/envs/4s_dev/lib/python3.7/site-packages/lightgbm/engine.py:181: UserWarning: 'early_stopping_rounds' argument is deprecated and will be removed in a future release of LightGBM. Pass 'early_stopping()' callback via 'callbacks' argument instead.\n",
      "  _log_warning(\"'early_stopping_rounds' argument is deprecated and will be removed in a future release of LightGBM. \"\n",
      "/root/anaconda3/envs/4s_dev/lib/python3.7/site-packages/lightgbm/engine.py:239: UserWarning: 'verbose_eval' argument is deprecated and will be removed in a future release of LightGBM. Pass 'log_evaluation()' callback via 'callbacks' argument instead.\n",
      "  _log_warning(\"'verbose_eval' argument is deprecated and will be removed in a future release of LightGBM. \"\n"
     ]
    },
    {
     "name": "stdout",
     "output_type": "stream",
     "text": [
      "0:\tlearn: 17.6213376\ttest: 16.7326478\tbest: 16.7326478 (0)\ttotal: 4.14ms\tremaining: 12.4s\n",
      "Stopped by overfitting detector  (10 iterations wait)\n",
      "\n",
      "bestTest = 13.37255706\n",
      "bestIteration = 43\n",
      "\n",
      "Shrink model to first 44 iterations.\n",
      "Training until validation scores don't improve for 50 rounds\n",
      "Early stopping, best iteration is:\n",
      "[37]\ttrain's l2: 59.5424\tvalid's l2: 179.67\n"
     ]
    },
    {
     "name": "stderr",
     "output_type": "stream",
     "text": [
      "Warning: Overfitting detector is active, thus evaluation metric is calculated on every iteration. 'metric_period' is ignored for evaluation metric.\n"
     ]
    },
    {
     "name": "stdout",
     "output_type": "stream",
     "text": [
      "0:\tlearn: 17.1073898\ttest: 19.0416655\tbest: 19.0416655 (0)\ttotal: 4.17ms\tremaining: 12.5s\n",
      "Stopped by overfitting detector  (10 iterations wait)\n",
      "\n",
      "bestTest = 14.73070992\n",
      "bestIteration = 76\n",
      "\n",
      "Shrink model to first 77 iterations.\n"
     ]
    },
    {
     "name": "stderr",
     "output_type": "stream",
     "text": [
      "/root/anaconda3/envs/4s_dev/lib/python3.7/site-packages/lightgbm/engine.py:181: UserWarning: 'early_stopping_rounds' argument is deprecated and will be removed in a future release of LightGBM. Pass 'early_stopping()' callback via 'callbacks' argument instead.\n",
      "  _log_warning(\"'early_stopping_rounds' argument is deprecated and will be removed in a future release of LightGBM. \"\n",
      "/root/anaconda3/envs/4s_dev/lib/python3.7/site-packages/lightgbm/engine.py:239: UserWarning: 'verbose_eval' argument is deprecated and will be removed in a future release of LightGBM. Pass 'log_evaluation()' callback via 'callbacks' argument instead.\n",
      "  _log_warning(\"'verbose_eval' argument is deprecated and will be removed in a future release of LightGBM. \"\n"
     ]
    },
    {
     "name": "stdout",
     "output_type": "stream",
     "text": [
      "Training until validation scores don't improve for 50 rounds\n",
      "[100]\ttrain's l2: 12.5152\tvalid's l2: 204.504\n",
      "Early stopping, best iteration is:\n",
      "[65]\ttrain's l2: 28.2014\tvalid's l2: 197.337\n"
     ]
    },
    {
     "name": "stderr",
     "output_type": "stream",
     "text": [
      "Warning: Overfitting detector is active, thus evaluation metric is calculated on every iteration. 'metric_period' is ignored for evaluation metric.\n"
     ]
    },
    {
     "name": "stdout",
     "output_type": "stream",
     "text": [
      "0:\tlearn: 17.3088007\ttest: 18.1931328\tbest: 18.1931328 (0)\ttotal: 4.24ms\tremaining: 12.7s\n",
      "Stopped by overfitting detector  (10 iterations wait)\n",
      "\n",
      "bestTest = 15.093124\n",
      "bestIteration = 71\n",
      "\n",
      "Shrink model to first 72 iterations.\n"
     ]
    },
    {
     "name": "stderr",
     "output_type": "stream",
     "text": [
      "/root/anaconda3/envs/4s_dev/lib/python3.7/site-packages/lightgbm/engine.py:181: UserWarning: 'early_stopping_rounds' argument is deprecated and will be removed in a future release of LightGBM. Pass 'early_stopping()' callback via 'callbacks' argument instead.\n",
      "  _log_warning(\"'early_stopping_rounds' argument is deprecated and will be removed in a future release of LightGBM. \"\n",
      "/root/anaconda3/envs/4s_dev/lib/python3.7/site-packages/lightgbm/engine.py:239: UserWarning: 'verbose_eval' argument is deprecated and will be removed in a future release of LightGBM. Pass 'log_evaluation()' callback via 'callbacks' argument instead.\n",
      "  _log_warning(\"'verbose_eval' argument is deprecated and will be removed in a future release of LightGBM. \"\n"
     ]
    },
    {
     "name": "stdout",
     "output_type": "stream",
     "text": [
      "Training until validation scores don't improve for 50 rounds\n",
      "Early stopping, best iteration is:\n",
      "[36]\ttrain's l2: 56.0982\tvalid's l2: 194.821\n"
     ]
    }
   ],
   "source": [
    "x_meta_train_all, x_meta_test_all = train_step1(\n",
    "    x_all, y_all, x_test, split_info, all_feature_index, model_list)\n",
    "x_meta_train_100, x_meta_test_100 = train_step1(\n",
    "    x_all, y_all, x_test, split_info, top100_feature_index, model_list)\n",
    "\n",
    "x_meta_train_each, x_meta_test_each = train_step1(\n",
    "    x_all, y_all, x_test, split_info, each_feature_index, model_list)\n",
    "x_meta_train_50, x_meta_test_50 = train_step1(\n",
    "    x_all, y_all, x_test, split_info, top50_feature_index, model_list)"
   ]
  },
  {
   "cell_type": "code",
   "execution_count": 48,
   "id": "adcafc22",
   "metadata": {},
   "outputs": [],
   "source": [
    "x_meta = merge_stage1_features(\n",
    "    [x_meta_train_all, x_meta_train_100, x_meta_train_each, x_meta_train_50], x_raw_dev, each_feature_index)\n",
    "x_meta_test = merge_stage1_features(\n",
    "    [x_meta_test_all, x_meta_test_100, x_meta_test_each, x_meta_test_50], x_test, each_feature_index)"
   ]
  },
  {
   "cell_type": "code",
   "execution_count": 49,
   "id": "7530405d",
   "metadata": {},
   "outputs": [],
   "source": [
    "y_meta = y_raw_dev"
   ]
  },
  {
   "cell_type": "code",
   "execution_count": 50,
   "id": "0edc64d5",
   "metadata": {},
   "outputs": [
    {
     "data": {
      "text/plain": [
       "((367, 174), (123, 174), (367,))"
      ]
     },
     "execution_count": 50,
     "metadata": {},
     "output_type": "execute_result"
    }
   ],
   "source": [
    "x_meta.shape,x_meta_test.shape,y_meta.shape"
   ]
  },
  {
   "cell_type": "markdown",
   "id": "d2ac3d02",
   "metadata": {},
   "source": [
    "### Second stage"
   ]
  },
  {
   "cell_type": "code",
   "execution_count": 51,
   "id": "b7105aad",
   "metadata": {},
   "outputs": [],
   "source": [
    "from sklearn.model_selection import GridSearchCV"
   ]
  },
  {
   "cell_type": "code",
   "execution_count": 52,
   "id": "38aa79bb",
   "metadata": {},
   "outputs": [],
   "source": [
    "# param_grid = {\n",
    "#     'max_depth': [1,2,3],\n",
    "#     'n_estimators': range(0, 50, 5),\n",
    "#     'subsample': [0.5,0.6,0.7, 0.8, 0.9,1]\n",
    "# }\n",
    "\n",
    "param_grid = {\n",
    "    'max_depth': [1],\n",
    "    'n_estimators':[15],\n",
    "    'subsample': [1]\n",
    "}"
   ]
  },
  {
   "cell_type": "code",
   "execution_count": 53,
   "id": "05748af2",
   "metadata": {},
   "outputs": [],
   "source": [
    "def search_params(x_train, y_train, cv=5):\n",
    "    model = xgboost.XGBRegressor(tree_method='gpu_hist', gpu_id=2, n_jobs=20)\n",
    "    clf = GridSearchCV(model, param_grid, cv=cv,\n",
    "                       scoring='neg_mean_squared_error', verbose=2, refit='neg_mean_squared_error')\n",
    "    clf.fit(x_train, y_train)\n",
    "    return clf"
   ]
  },
  {
   "cell_type": "code",
   "execution_count": 54,
   "id": "129988bb",
   "metadata": {},
   "outputs": [
    {
     "data": {
      "text/plain": [
       "(367, 174)"
      ]
     },
     "execution_count": 54,
     "metadata": {},
     "output_type": "execute_result"
    }
   ],
   "source": [
    "x_meta.shape"
   ]
  },
  {
   "cell_type": "code",
   "execution_count": 55,
   "id": "038e288b",
   "metadata": {
    "scrolled": true
   },
   "outputs": [
    {
     "name": "stdout",
     "output_type": "stream",
     "text": [
      "Fitting 5 folds for each of 1 candidates, totalling 5 fits\n",
      "[CV] END ..........max_depth=1, n_estimators=15, subsample=1; total time=   0.4s\n",
      "[CV] END ..........max_depth=1, n_estimators=15, subsample=1; total time=   0.0s\n",
      "[CV] END ..........max_depth=1, n_estimators=15, subsample=1; total time=   0.0s\n",
      "[CV] END ..........max_depth=1, n_estimators=15, subsample=1; total time=   0.1s\n",
      "[CV] END ..........max_depth=1, n_estimators=15, subsample=1; total time=   0.1s\n"
     ]
    }
   ],
   "source": [
    "clf = search_params(x_meta,y_meta,cv=5)"
   ]
  },
  {
   "cell_type": "code",
   "execution_count": 56,
   "id": "a025ada2",
   "metadata": {},
   "outputs": [
    {
     "data": {
      "text/plain": [
       "({'max_depth': 1, 'n_estimators': 15, 'subsample': 1}, -197.8467341476009)"
      ]
     },
     "execution_count": 56,
     "metadata": {},
     "output_type": "execute_result"
    }
   ],
   "source": [
    "clf.best_params_,clf.best_score_"
   ]
  },
  {
   "cell_type": "code",
   "execution_count": 57,
   "id": "b4181a0e",
   "metadata": {},
   "outputs": [],
   "source": [
    "best_params = clf.best_params_\n"
   ]
  },
  {
   "cell_type": "code",
   "execution_count": 58,
   "id": "76832e66",
   "metadata": {
    "scrolled": true
   },
   "outputs": [
    {
     "data": {
      "text/plain": [
       "XGBRegressor(base_score=0.5, booster='gbtree', colsample_bylevel=1,\n",
       "             colsample_bynode=1, colsample_bytree=1, enable_categorical=False,\n",
       "             gamma=0, gpu_id=3, importance_type=None,\n",
       "             interaction_constraints='', learning_rate=0.300000012,\n",
       "             max_delta_step=0, max_depth=1, min_child_weight=1, missing=nan,\n",
       "             monotone_constraints='()', n_estimators=15, n_jobs=10,\n",
       "             num_parallel_tree=1, predictor='auto', random_state=0, reg_alpha=0,\n",
       "             reg_lambda=1, scale_pos_weight=1, subsample=1,\n",
       "             tree_method='gpu_hist', validate_parameters=1, verbosity=None)"
      ]
     },
     "execution_count": 58,
     "metadata": {},
     "output_type": "execute_result"
    }
   ],
   "source": [
    "model = xgboost.XGBRegressor(tree_method='gpu_hist',gpu_id=3, n_jobs=10,**best_params)\n",
    "model.fit(x_meta,y_meta)"
   ]
  },
  {
   "cell_type": "code",
   "execution_count": 59,
   "id": "aadc379e",
   "metadata": {},
   "outputs": [
    {
     "data": {
      "text/plain": [
       "array([0.        , 0.        , 0.3223623 , 0.        , 0.        ,\n",
       "       0.        , 0.        , 0.        , 0.        , 0.        ,\n",
       "       0.        , 0.02124545, 0.03068804, 0.        , 0.        ,\n",
       "       0.14208728, 0.        , 0.03622532, 0.05882152, 0.        ,\n",
       "       0.26748398, 0.        , 0.        , 0.        , 0.        ,\n",
       "       0.        , 0.        , 0.        , 0.        , 0.        ,\n",
       "       0.        , 0.        , 0.02833547, 0.        , 0.        ,\n",
       "       0.        , 0.        , 0.        , 0.        , 0.        ,\n",
       "       0.        , 0.01643409, 0.        , 0.        , 0.        ,\n",
       "       0.        , 0.        , 0.        , 0.        , 0.        ,\n",
       "       0.        , 0.        , 0.        , 0.        , 0.02125445,\n",
       "       0.        , 0.        , 0.        , 0.        , 0.        ,\n",
       "       0.        , 0.        , 0.        , 0.        , 0.        ,\n",
       "       0.        , 0.        , 0.        , 0.        , 0.        ,\n",
       "       0.        , 0.        , 0.02245758, 0.        , 0.        ,\n",
       "       0.        , 0.        , 0.        , 0.        , 0.        ,\n",
       "       0.        , 0.01622348, 0.        , 0.        , 0.        ,\n",
       "       0.        , 0.        , 0.        , 0.        , 0.        ,\n",
       "       0.        , 0.        , 0.        , 0.01638109, 0.        ,\n",
       "       0.        , 0.        , 0.        , 0.        , 0.        ,\n",
       "       0.        , 0.        , 0.        , 0.        , 0.        ,\n",
       "       0.        , 0.        , 0.        , 0.        , 0.        ,\n",
       "       0.        , 0.        , 0.        , 0.        , 0.        ,\n",
       "       0.        , 0.        , 0.        , 0.        , 0.        ,\n",
       "       0.        , 0.        , 0.        , 0.        , 0.        ,\n",
       "       0.        , 0.        , 0.        , 0.        , 0.        ,\n",
       "       0.        , 0.        , 0.        , 0.        , 0.        ,\n",
       "       0.        , 0.        , 0.        , 0.        , 0.        ,\n",
       "       0.        , 0.        , 0.        , 0.        , 0.        ,\n",
       "       0.        , 0.        , 0.        , 0.        , 0.        ,\n",
       "       0.        , 0.        , 0.        , 0.        , 0.        ,\n",
       "       0.        , 0.        , 0.        , 0.        , 0.        ,\n",
       "       0.        , 0.        , 0.        , 0.        , 0.        ,\n",
       "       0.        , 0.        , 0.        , 0.        , 0.        ,\n",
       "       0.        , 0.        , 0.        , 0.        ], dtype=float32)"
      ]
     },
     "execution_count": 59,
     "metadata": {},
     "output_type": "execute_result"
    }
   ],
   "source": [
    "model.feature_importances_"
   ]
  },
  {
   "cell_type": "markdown",
   "id": "06a606b1",
   "metadata": {},
   "source": [
    "### Inference"
   ]
  },
  {
   "cell_type": "code",
   "execution_count": 60,
   "id": "3898e92f",
   "metadata": {
    "scrolled": true
   },
   "outputs": [],
   "source": [
    "y_final_pred = model.predict(x_meta_test)"
   ]
  },
  {
   "cell_type": "code",
   "execution_count": 61,
   "id": "6e30e90d",
   "metadata": {
    "scrolled": true
   },
   "outputs": [],
   "source": [
    "df_submit = pd.DataFrame({\"SubjectID\":stu_ids_test,\"X-Grade\":y_final_pred})\n",
    "df_submit.to_csv('data/submit/track2/predictions.csv',index=False)"
   ]
  },
  {
   "cell_type": "code",
   "execution_count": 62,
   "id": "70859625",
   "metadata": {
    "scrolled": false
   },
   "outputs": [
    {
     "data": {
      "text/plain": [
       "<seaborn.axisgrid.FacetGrid at 0x7f7da0020110>"
      ]
     },
     "execution_count": 62,
     "metadata": {},
     "output_type": "execute_result"
    },
    {
     "data": {
      "image/png": "[encoded data removed]",
      "text/plain": [
       "<Figure size 360x360 with 1 Axes>"
      ]
     },
     "metadata": {
      "needs_background": "light"
     },
     "output_type": "display_data"
    }
   ],
   "source": [
    "sns.displot(df_submit['X-Grade'])"
   ]
  },
  {
   "cell_type": "code",
   "execution_count": null,
   "id": "a7ec6a26",
   "metadata": {},
   "outputs": [],
   "source": []
  },
  {
   "cell_type": "code",
   "execution_count": null,
   "id": "c3d3224d",
   "metadata": {},
   "outputs": [],
   "source": []
  }
 ],
 "metadata": {
  "kernelspec": {
   "display_name": "4s_dev",
   "language": "python",
   "name": "4s_dev"
  },
  "language_info": {
   "codemirror_mode": {
    "name": "ipython",
    "version": 3
   },
   "file_extension": ".py",
   "mimetype": "text/x-python",
   "name": "python",
   "nbconvert_exporter": "python",
   "pygments_lexer": "ipython3",
   "version": "3.7.5"
  },
  "toc": {
   "base_numbering": 1,
   "nav_menu": {},
   "number_sections": true,
   "sideBar": true,
   "skip_h1_title": false,
   "title_cell": "Table of Contents",
   "title_sidebar": "Contents",
   "toc_cell": false,
   "toc_position": {
    "height": "calc(100% - 180px)",
    "left": "10px",
    "top": "150px",
    "width": "196px"
   },
   "toc_section_display": true,
   "toc_window_display": true
  }
 },
 "nbformat": 4,
 "nbformat_minor": 5
}
