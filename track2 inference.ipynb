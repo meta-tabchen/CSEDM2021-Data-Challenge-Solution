{
 "cells": [
  {
   "cell_type": "code",
   "execution_count": 10,
   "id": "051df706",
   "metadata": {},
   "outputs": [],
   "source": [
    "import xgboost"
   ]
  },
  {
   "cell_type": "code",
   "execution_count": 11,
   "id": "a81c5d94",
   "metadata": {},
   "outputs": [
    {
     "data": {
      "text/plain": [
       "'1.5.1'"
      ]
     },
     "execution_count": 11,
     "metadata": {},
     "output_type": "execute_result"
    }
   ],
   "source": [
    "xgboost.__version__"
   ]
  },
  {
   "cell_type": "code",
   "execution_count": 1,
   "id": "ce14bda6",
   "metadata": {},
   "outputs": [],
   "source": [
    "import pickle"
   ]
  },
  {
   "cell_type": "code",
   "execution_count": 2,
   "id": "ece369b7",
   "metadata": {},
   "outputs": [],
   "source": [
    "from utils.data_loader import *\n",
    "from utils.task2_helps import get_feature"
   ]
  },
  {
   "cell_type": "code",
   "execution_count": 3,
   "id": "dd0f0933",
   "metadata": {},
   "outputs": [],
   "source": [
    "model = pickle.load(open('data/models/task2/gbdt.pkl','rb'))"
   ]
  },
  {
   "cell_type": "code",
   "execution_count": 4,
   "id": "560bb942",
   "metadata": {},
   "outputs": [],
   "source": [
    "# test dataset dir\n",
    "test_data_dir = \"../csedm_2021/data/csedm_2021/datashop/F19_Release_Test_06-28-21/Test\""
   ]
  },
  {
   "cell_type": "code",
   "execution_count": 5,
   "id": "20f88f3c",
   "metadata": {},
   "outputs": [],
   "source": [
    "#load data\n",
    "early_test, late_test, main_table_test, code_state_test, subject_test, metadata_test = load_raw_data(\n",
    "    test_data_dir)"
   ]
  },
  {
   "cell_type": "code",
   "execution_count": 6,
   "id": "e4132b75",
   "metadata": {},
   "outputs": [],
   "source": [
    "# get features\n",
    "x_final_test,stu_ids = get_feature(early_test,main_table_test,subject_2_score={},mode=\"test\")"
   ]
  },
  {
   "cell_type": "code",
   "execution_count": 7,
   "id": "0052b45d",
   "metadata": {},
   "outputs": [],
   "source": [
    "#predict\n",
    "y_final_pred = model.predict(x_final_test)"
   ]
  },
  {
   "cell_type": "code",
   "execution_count": 8,
   "id": "7712aac5",
   "metadata": {},
   "outputs": [],
   "source": [
    "# generate submit resutls\n",
    "df_submit = pd.DataFrame({\"SubjectID\": stu_ids, \"X-Grade\": y_final_pred})\n",
    "os.makedirs(\"data/submit/track2/\",exist_ok=True)\n",
    "df_submit.to_csv('data/submit/track2/predictions.csv', index=False)"
   ]
  },
  {
   "cell_type": "code",
   "execution_count": 9,
   "id": "841d4db5",
   "metadata": {},
   "outputs": [
    {
     "data": {
      "text/html": [
       "<div>\n",
       "<style scoped>\n",
       "    .dataframe tbody tr th:only-of-type {\n",
       "        vertical-align: middle;\n",
       "    }\n",
       "\n",
       "    .dataframe tbody tr th {\n",
       "        vertical-align: top;\n",
       "    }\n",
       "\n",
       "    .dataframe thead th {\n",
       "        text-align: right;\n",
       "    }\n",
       "</style>\n",
       "<table border=\"1\" class=\"dataframe\">\n",
       "  <thead>\n",
       "    <tr style=\"text-align: right;\">\n",
       "      <th></th>\n",
       "      <th>SubjectID</th>\n",
       "      <th>X-Grade</th>\n",
       "    </tr>\n",
       "  </thead>\n",
       "  <tbody>\n",
       "    <tr>\n",
       "      <th>0</th>\n",
       "      <td>00358c94503a8d9e6869efc6e5cdb0e1c8e9eb39b1fd46...</td>\n",
       "      <td>58.702377</td>\n",
       "    </tr>\n",
       "    <tr>\n",
       "      <th>1</th>\n",
       "      <td>0685c8001a43b03e0a155e1afa0c7bec2f4e82d24f7ce4...</td>\n",
       "      <td>55.072189</td>\n",
       "    </tr>\n",
       "    <tr>\n",
       "      <th>2</th>\n",
       "      <td>080e819b7f2ec7fdf5df10abc0092a6ae39db49584244e...</td>\n",
       "      <td>43.958679</td>\n",
       "    </tr>\n",
       "    <tr>\n",
       "      <th>3</th>\n",
       "      <td>090e9df6cea280094ad11cf71385d27c1badc3396add08...</td>\n",
       "      <td>64.427864</td>\n",
       "    </tr>\n",
       "    <tr>\n",
       "      <th>4</th>\n",
       "      <td>0ad1e8e19521af38467ce62dbba5cf3531f17875bc11e7...</td>\n",
       "      <td>72.353043</td>\n",
       "    </tr>\n",
       "    <tr>\n",
       "      <th>...</th>\n",
       "      <td>...</td>\n",
       "      <td>...</td>\n",
       "    </tr>\n",
       "    <tr>\n",
       "      <th>118</th>\n",
       "      <td>f355a2a07982341bcafda00ed2abb604504fdc5295686d...</td>\n",
       "      <td>57.106003</td>\n",
       "    </tr>\n",
       "    <tr>\n",
       "      <th>119</th>\n",
       "      <td>f4972b61ad2f1c8822cfb700c14259accc67203e071bfe...</td>\n",
       "      <td>52.716454</td>\n",
       "    </tr>\n",
       "    <tr>\n",
       "      <th>120</th>\n",
       "      <td>f90a856f26ac85aa8d9964fd692f94ca3c196fb21ffb78...</td>\n",
       "      <td>42.266541</td>\n",
       "    </tr>\n",
       "    <tr>\n",
       "      <th>121</th>\n",
       "      <td>fa57bd66cb6354a6d8af1e7b47b28589e586bf1303a908...</td>\n",
       "      <td>60.972431</td>\n",
       "    </tr>\n",
       "    <tr>\n",
       "      <th>122</th>\n",
       "      <td>fa7805c1d46ef49851de43750a665a993eef750b560159...</td>\n",
       "      <td>62.883068</td>\n",
       "    </tr>\n",
       "  </tbody>\n",
       "</table>\n",
       "<p>123 rows × 2 columns</p>\n",
       "</div>"
      ],
      "text/plain": [
       "                                             SubjectID    X-Grade\n",
       "0    00358c94503a8d9e6869efc6e5cdb0e1c8e9eb39b1fd46...  58.702377\n",
       "1    0685c8001a43b03e0a155e1afa0c7bec2f4e82d24f7ce4...  55.072189\n",
       "2    080e819b7f2ec7fdf5df10abc0092a6ae39db49584244e...  43.958679\n",
       "3    090e9df6cea280094ad11cf71385d27c1badc3396add08...  64.427864\n",
       "4    0ad1e8e19521af38467ce62dbba5cf3531f17875bc11e7...  72.353043\n",
       "..                                                 ...        ...\n",
       "118  f355a2a07982341bcafda00ed2abb604504fdc5295686d...  57.106003\n",
       "119  f4972b61ad2f1c8822cfb700c14259accc67203e071bfe...  52.716454\n",
       "120  f90a856f26ac85aa8d9964fd692f94ca3c196fb21ffb78...  42.266541\n",
       "121  fa57bd66cb6354a6d8af1e7b47b28589e586bf1303a908...  60.972431\n",
       "122  fa7805c1d46ef49851de43750a665a993eef750b560159...  62.883068\n",
       "\n",
       "[123 rows x 2 columns]"
      ]
     },
     "execution_count": 9,
     "metadata": {},
     "output_type": "execute_result"
    }
   ],
   "source": [
    "df_submit"
   ]
  },
  {
   "cell_type": "code",
   "execution_count": null,
   "id": "a8b4adea",
   "metadata": {},
   "outputs": [],
   "source": []
  }
 ],
 "metadata": {
  "kernelspec": {
   "display_name": "4s_dev",
   "language": "python",
   "name": "4s_dev"
  },
  "language_info": {
   "codemirror_mode": {
    "name": "ipython",
    "version": 3
   },
   "file_extension": ".py",
   "mimetype": "text/x-python",
   "name": "python",
   "nbconvert_exporter": "python",
   "pygments_lexer": "ipython3",
   "version": "3.7.5"
  },
  "toc": {
   "base_numbering": 1,
   "nav_menu": {},
   "number_sections": true,
   "sideBar": true,
   "skip_h1_title": false,
   "title_cell": "Table of Contents",
   "title_sidebar": "Contents",
   "toc_cell": false,
   "toc_position": {},
   "toc_section_display": true,
   "toc_window_display": false
  }
 },
 "nbformat": 4,
 "nbformat_minor": 5
}
